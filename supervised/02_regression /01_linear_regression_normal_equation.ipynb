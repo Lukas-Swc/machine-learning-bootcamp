{
  "nbformat": 4,
  "nbformat_minor": 0,
  "metadata": {
    "colab": {
      "provenance": [],
      "authorship_tag": "ABX9TyMtUeYjpnG2GNkPhXejoMGf",
      "include_colab_link": true
    },
    "kernelspec": {
      "name": "python3",
      "display_name": "Python 3"
    },
    "language_info": {
      "name": "python"
    }
  },
  "cells": [
    {
      "cell_type": "markdown",
      "metadata": {
        "id": "view-in-github",
        "colab_type": "text"
      },
      "source": [
        "<a href=\"https://colab.research.google.com/github/Lukas-Swc/machine-learning-bootcamp/blob/main/supervised/02_regression%20/01_linear_regression_normal_equation.ipynb\" target=\"_parent\"><img src=\"https://colab.research.google.com/assets/colab-badge.svg\" alt=\"Open In Colab\"/></a>"
      ]
    },
    {
      "cell_type": "markdown",
      "source": [
        "### scikit-learn\n",
        "Strona biblioteki: [https://scikit-learn.org](https://scikit-learn.org)  \n",
        "\n",
        "Dokumentacja/User Guide: [https://scikit-learn.org/stable/user_guide.html](https://scikit-learn.org/stable/user_guide.html)\n",
        "\n",
        "Podstawowa biblioteka do uczenia maszynowego w języku Python.\n",
        "\n",
        "Aby zainstalować bibliotekę scikit-learn, użyj polecenia poniżej:\n",
        "```\n",
        "!pip install scikit-learn\n",
        "```\n",
        "Aby zaktualizować do najnowszej wersji bibliotekę scikit-learn, użyj polecenia poniżej:\n",
        "```\n",
        "!pip install --upgrade scikit-learn\n",
        "```\n",
        "Kurs stworzony w oparciu o wersję `0.22.1`\n",
        "\n",
        "### Spis treści:\n",
        "1. [Import bibliotek](#0)\n",
        "2. [Przygotowanie danych](#1)\n",
        "3. [Równanie normalne](#2)\n",
        "4. [Regresja liniowa przy pomocy scikit-learn](#3)\n",
        "\n"
      ],
      "metadata": {
        "id": "Z9aReZT10Oij"
      }
    },
    {
      "cell_type": "markdown",
      "source": [
        "### <a name='0'></a> Import bibliotek"
      ],
      "metadata": {
        "id": "Y3XC15tU0Uqt"
      }
    },
    {
      "cell_type": "code",
      "source": [
        "import numpy as np"
      ],
      "metadata": {
        "id": "mg29LWP90tXa"
      },
      "execution_count": 1,
      "outputs": []
    },
    {
      "cell_type": "markdown",
      "source": [
        "### <a name='1'></a> Przygotowanie danych"
      ],
      "metadata": {
        "id": "BfAO0cpv0ZdP"
      }
    },
    {
      "cell_type": "code",
      "source": [
        "X1 = np.array([1, 2, 3, 4, 5, 6])\n",
        "Y = np.array([3000, 3250, 3500, 3750, 4000, 4250])\n",
        "m = len(X1)\n",
        "\n",
        "print(f'Lata pracy: {X1}')\n",
        "print(f'Wynagrodzenie: {Y}')\n",
        "print(f'Liczba probek: {m}')"
      ],
      "metadata": {
        "colab": {
          "base_uri": "https://localhost:8080/"
        },
        "id": "RRSpKLkO0ys6",
        "outputId": "5b0702eb-59a7-4af1-9ec6-03ce363b8e1d"
      },
      "execution_count": 2,
      "outputs": [
        {
          "output_type": "stream",
          "name": "stdout",
          "text": [
            "Lata pracy: [1 2 3 4 5 6]\n",
            "Wynagrodzenie: [3000 3250 3500 3750 4000 4250]\n",
            "Liczba probek: 6\n"
          ]
        }
      ]
    },
    {
      "cell_type": "code",
      "source": [
        "X1 = X1.reshape(m, 1)\n",
        "print(X1)\n",
        "print(X1.shape)"
      ],
      "metadata": {
        "colab": {
          "base_uri": "https://localhost:8080/"
        },
        "id": "C4sZFzrh1khn",
        "outputId": "1736c94b-db3c-4609-e9b0-db8de70cefcc"
      },
      "execution_count": 4,
      "outputs": [
        {
          "output_type": "stream",
          "name": "stdout",
          "text": [
            "[[1]\n",
            " [2]\n",
            " [3]\n",
            " [4]\n",
            " [5]\n",
            " [6]]\n",
            "(6, 1)\n"
          ]
        }
      ]
    },
    {
      "cell_type": "code",
      "source": [
        "bias = np.ones((m, 1))\n",
        "print(bias)\n",
        "print(bias.shape)"
      ],
      "metadata": {
        "colab": {
          "base_uri": "https://localhost:8080/"
        },
        "id": "uVVEjTd018aO",
        "outputId": "7cec199d-c452-4ec8-960f-881737066bc8"
      },
      "execution_count": 8,
      "outputs": [
        {
          "output_type": "stream",
          "name": "stdout",
          "text": [
            "[[1.]\n",
            " [1.]\n",
            " [1.]\n",
            " [1.]\n",
            " [1.]\n",
            " [1.]]\n",
            "(6, 1)\n"
          ]
        }
      ]
    },
    {
      "cell_type": "code",
      "source": [
        "X = np.append(X1, bias, axis=1)\n",
        "print(X)\n",
        "print(X.shape)"
      ],
      "metadata": {
        "colab": {
          "base_uri": "https://localhost:8080/"
        },
        "id": "h5olp3kJ2b9D",
        "outputId": "9ccbe611-0104-4daf-d8ca-4cd43934d14f"
      },
      "execution_count": 10,
      "outputs": [
        {
          "output_type": "stream",
          "name": "stdout",
          "text": [
            "[[1. 1.]\n",
            " [2. 1.]\n",
            " [3. 1.]\n",
            " [4. 1.]\n",
            " [5. 1.]\n",
            " [6. 1.]]\n",
            "(6, 2)\n"
          ]
        }
      ]
    },
    {
      "cell_type": "markdown",
      "source": [
        "### <a name='2'></a> Równanie normalne"
      ],
      "metadata": {
        "id": "GbStV4cs0d1Y"
      }
    },
    {
      "cell_type": "markdown",
      "source": [
        "### <a name='2'></a> Równanie normalne\n",
        "\n",
        "Regresja liniowa w $R^2$:\n",
        "$$Y = w_0 + w_1X_1$$\n",
        "$$Y = W^TX$$\n",
        "gdzie: $$W= \\left[\\begin{matrix}w_0\\\\w_1\\end{matrix}\\right]$$ $$ X= \\left[\\begin{matrix}1\\\\X_1\\end{matrix}\\right] $$ stąd $$ W^T= \\left[\\begin{matrix}w_0&w_1\\end{matrix}\\right] $$    \n",
        "$$Y = W^TX = \\left[\\begin{matrix}w_0&w_1\\end{matrix}\\right] \\cdot  \\left[\\begin{matrix}1\\\\X_1\\end{matrix}\\right] = w_0 + w_1X_1$$\n",
        "\n",
        "Równanie normalne - równanie pozwalające obliczyć minimum funkcji straty (o ile istnieje)\n",
        "$$W = (X^TX)^{-1}(X^TY)$$"
      ],
      "metadata": {
        "id": "TBjtQpV62y4F"
      }
    },
    {
      "cell_type": "code",
      "source": [
        "np.dot(X.T, X)"
      ],
      "metadata": {
        "colab": {
          "base_uri": "https://localhost:8080/"
        },
        "id": "EeoMrtUR27Af",
        "outputId": "c4903002-620c-4bab-93d1-7987dd71890a"
      },
      "execution_count": 18,
      "outputs": [
        {
          "output_type": "execute_result",
          "data": {
            "text/plain": [
              "array([[91., 21.],\n",
              "       [21.,  6.]])"
            ]
          },
          "metadata": {},
          "execution_count": 18
        }
      ]
    },
    {
      "cell_type": "code",
      "source": [
        "L = np.linalg.inv(np.dot(X.T, X))\n",
        "L"
      ],
      "metadata": {
        "colab": {
          "base_uri": "https://localhost:8080/"
        },
        "id": "la7PXuhC8lr6",
        "outputId": "c904d3a4-1cb6-4c2e-c1a4-91f46540e9d5"
      },
      "execution_count": 19,
      "outputs": [
        {
          "output_type": "execute_result",
          "data": {
            "text/plain": [
              "array([[ 0.05714286, -0.2       ],\n",
              "       [-0.2       ,  0.86666667]])"
            ]
          },
          "metadata": {},
          "execution_count": 19
        }
      ]
    },
    {
      "cell_type": "code",
      "source": [
        "P = np.dot(X.T, Y)\n",
        "P"
      ],
      "metadata": {
        "colab": {
          "base_uri": "https://localhost:8080/"
        },
        "id": "2nDHXp2O9IzJ",
        "outputId": "ba672577-17da-4724-91dc-c2ac17547001"
      },
      "execution_count": 21,
      "outputs": [
        {
          "output_type": "execute_result",
          "data": {
            "text/plain": [
              "array([80500., 21750.])"
            ]
          },
          "metadata": {},
          "execution_count": 21
        }
      ]
    },
    {
      "cell_type": "code",
      "source": [
        "np.dot(L, P)"
      ],
      "metadata": {
        "colab": {
          "base_uri": "https://localhost:8080/"
        },
        "id": "KU3Smhgb9iAI",
        "outputId": "b246f30f-c3d7-4634-8c54-d3f0f56f5cb2"
      },
      "execution_count": 22,
      "outputs": [
        {
          "output_type": "execute_result",
          "data": {
            "text/plain": [
              "array([ 250., 2750.])"
            ]
          },
          "metadata": {},
          "execution_count": 22
        }
      ]
    },
    {
      "cell_type": "markdown",
      "source": [
        "Końcowa postać modelu$$Y = 2750 + 250X_1$$"
      ],
      "metadata": {
        "id": "BM3RB0sE9z-J"
      }
    },
    {
      "cell_type": "markdown",
      "source": [
        "### <a name='3'></a> Regresja liniowa przy pomocy scikit-learn"
      ],
      "metadata": {
        "id": "lidhw3JY0kF-"
      }
    },
    {
      "cell_type": "code",
      "source": [
        "from sklearn.linear_model import LinearRegression\n",
        "\n",
        "regression = LinearRegression()\n",
        "regression.fit(X1, Y)\n",
        "\n",
        "print(regression.intercept_)\n",
        "print(regression.coef_[0])"
      ],
      "metadata": {
        "colab": {
          "base_uri": "https://localhost:8080/"
        },
        "id": "MLoNc-vg-bmv",
        "outputId": "d75e9201-b4c9-400e-a650-4095176180d3"
      },
      "execution_count": 26,
      "outputs": [
        {
          "output_type": "stream",
          "name": "stdout",
          "text": [
            "2750.0\n",
            "250.0\n"
          ]
        }
      ]
    }
  ]
}