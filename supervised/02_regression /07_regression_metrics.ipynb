{
  "nbformat": 4,
  "nbformat_minor": 0,
  "metadata": {
    "colab": {
      "provenance": [],
      "authorship_tag": "ABX9TyO0Hz7zfKFSzBiPcVWOAWEC",
      "include_colab_link": true
    },
    "kernelspec": {
      "name": "python3",
      "display_name": "Python 3"
    },
    "language_info": {
      "name": "python"
    }
  },
  "cells": [
    {
      "cell_type": "markdown",
      "metadata": {
        "id": "view-in-github",
        "colab_type": "text"
      },
      "source": [
        "<a href=\"https://colab.research.google.com/github/Lukas-Swc/machine-learning-bootcamp/blob/main/supervised/02_regression%20/07_regression_metrics.ipynb\" target=\"_parent\"><img src=\"https://colab.research.google.com/assets/colab-badge.svg\" alt=\"Open In Colab\"/></a>"
      ]
    },
    {
      "cell_type": "markdown",
      "source": [
        "### scikit-learn\n",
        "Strona biblioteki: [https://scikit-learn.org](https://scikit-learn.org)  \n",
        "\n",
        "Dokumentacja/User Guide: [https://scikit-learn.org/stable/user_guide.html](https://scikit-learn.org/stable/user_guide.html)\n",
        "\n",
        "Podstawowa biblioteka do uczenia maszynowego w języku Python.\n",
        "\n",
        "Aby zainstalować bibliotekę scikit-learn, użyj polecenia poniżej:\n",
        "```\n",
        "!pip install scikit-learn\n",
        "```\n",
        "Aby zaktualizować do najnowszej wersji bibliotekę scikit-learn, użyj polecenia poniżej:\n",
        "```\n",
        "!pip install --upgrade scikit-learn\n",
        "```\n",
        "Kurs stworzony w oparciu o wersję `0.22.1`\n",
        "\n",
        "### Spis treści:\n",
        "1. [Import bibliotek](#a0)\n",
        "2. [Interpretacja graficzna](#a2)\n",
        "3. [Mean Absolute Error - MAE - Średni błąd bezwzględny](#a3)\n",
        "4. [Mean Squared Error - MSE - Błąd średniokwadratowy](#a4)\n",
        "5. [Root Mean Squared Error - RMSE - Pierwiastek błędu średniokwadratowego](#a5)\n",
        "6. [Max Error - Błąd maksymalny](#a6)\n",
        "7. [R2 score - współczynnik determinacji](#a7)\n"
      ],
      "metadata": {
        "id": "dPdvFQg3dPC8"
      }
    },
    {
      "cell_type": "markdown",
      "source": [
        "### <a name='a0'></a>  Import bibliotek"
      ],
      "metadata": {
        "id": "kuaPmGfOdQO1"
      }
    },
    {
      "cell_type": "code",
      "source": [
        "import numpy as np\n",
        "import pandas as pd\n",
        "import plotly.express as px\n",
        "import plotly.graph_objects as go\n",
        "\n",
        "np.random.seed(42)"
      ],
      "metadata": {
        "id": "qdNBvhXMd5BM"
      },
      "execution_count": 1,
      "outputs": []
    },
    {
      "cell_type": "code",
      "source": [
        "y_true = 100 + 20 *  np.random.randn(50)\n",
        "y_true"
      ],
      "metadata": {
        "colab": {
          "base_uri": "https://localhost:8080/"
        },
        "id": "3NfK9UA1eJS4",
        "outputId": "5a205b68-e341-4475-c582-02be62c1df0e"
      },
      "execution_count": 11,
      "outputs": [
        {
          "output_type": "execute_result",
          "data": {
            "text/plain": [
              "array([ 80.70153079, 113.7210292 , 121.16848974,  64.82521027,\n",
              "        76.33482975,  59.21535644,  94.61186331, 114.35084512,\n",
              "       130.04714104, 101.48189561, 132.57231091,  72.39797084,\n",
              "        65.93235121,  98.88904602, 107.68130898,  99.34610504,\n",
              "        58.651158  ,  98.21759921,  73.91060999, 113.39345098,\n",
              "       107.33196492,  81.20240427,  89.72266165,  78.81572956,\n",
              "        98.74641805, 119.10284641,  80.28547907, 110.08093031,\n",
              "        89.39484763,  84.14254335,  97.8593928 ,  79.29515355,\n",
              "        88.92701389,  76.04244215, 139.29450266, 100.70527104,\n",
              "        86.00548984, 104.27959821,  97.75343901,  95.58060801,\n",
              "       112.283334  , 115.1501542 ,  89.38997705,  88.48363519,\n",
              "        94.49896606,  53.96157671,  69.69617876, 127.33748535,\n",
              "       132.89935427,  95.01927921])"
            ]
          },
          "metadata": {},
          "execution_count": 11
        }
      ]
    },
    {
      "cell_type": "code",
      "source": [
        "y_pred = y_true + 10 * np.random.randn(50)\n",
        "y_pred"
      ],
      "metadata": {
        "colab": {
          "base_uri": "https://localhost:8080/"
        },
        "id": "6WybpkLFeniu",
        "outputId": "a331d729-c240-414b-9879-91fb934babc8"
      },
      "execution_count": 12,
      "outputs": [
        {
          "output_type": "execute_result",
          "data": {
            "text/plain": [
              "array([ 86.46710042, 116.83353075, 151.95729782,  76.02095939,\n",
              "        75.05565383,  49.65995204,  78.54740011, 116.38548147,\n",
              "       122.48363359,  87.25935851, 126.10658207,  61.5824908 ,\n",
              "        82.80376756, 107.70544359, 107.60158257, 114.14554643,\n",
              "        59.42484108,  89.6047572 ,  89.14185076, 118.78255141,\n",
              "        96.95950338,  79.29901749,  80.96647912,  64.98773225,\n",
              "       108.00819353, 138.19701281,  66.29980334, 115.71062268,\n",
              "        82.88842194,  79.27128952,  91.93545356,  70.65524585,\n",
              "        89.41223017,  67.73294098, 141.99907092, 100.20288994,\n",
              "        83.61600937,  95.20396159,  91.9857257 , 103.13452027,\n",
              "       117.29250588, 105.37460175,  90.3833001 ,  95.99750642,\n",
              "        77.80491325,  59.39517863,  63.06994117, 133.04347203,\n",
              "       125.2667627 ,  76.9704582 ])"
            ]
          },
          "metadata": {},
          "execution_count": 12
        }
      ]
    },
    {
      "cell_type": "code",
      "source": [
        "results = pd.DataFrame(data={'y_true': y_true, 'y_pred': y_pred})\n",
        "results.head()"
      ],
      "metadata": {
        "colab": {
          "base_uri": "https://localhost:8080/",
          "height": 206
        },
        "id": "0fYQFndCfa1y",
        "outputId": "44081cf0-12cd-40d6-9bc6-60067daa4a54"
      },
      "execution_count": 14,
      "outputs": [
        {
          "output_type": "execute_result",
          "data": {
            "text/plain": [
              "       y_true      y_pred\n",
              "0   80.701531   86.467100\n",
              "1  113.721029  116.833531\n",
              "2  121.168490  151.957298\n",
              "3   64.825210   76.020959\n",
              "4   76.334830   75.055654"
            ],
            "text/html": [
              "\n",
              "  <div id=\"df-4072c7e0-4263-4bbc-8dff-cacb4280c423\" class=\"colab-df-container\">\n",
              "    <div>\n",
              "<style scoped>\n",
              "    .dataframe tbody tr th:only-of-type {\n",
              "        vertical-align: middle;\n",
              "    }\n",
              "\n",
              "    .dataframe tbody tr th {\n",
              "        vertical-align: top;\n",
              "    }\n",
              "\n",
              "    .dataframe thead th {\n",
              "        text-align: right;\n",
              "    }\n",
              "</style>\n",
              "<table border=\"1\" class=\"dataframe\">\n",
              "  <thead>\n",
              "    <tr style=\"text-align: right;\">\n",
              "      <th></th>\n",
              "      <th>y_true</th>\n",
              "      <th>y_pred</th>\n",
              "    </tr>\n",
              "  </thead>\n",
              "  <tbody>\n",
              "    <tr>\n",
              "      <th>0</th>\n",
              "      <td>80.701531</td>\n",
              "      <td>86.467100</td>\n",
              "    </tr>\n",
              "    <tr>\n",
              "      <th>1</th>\n",
              "      <td>113.721029</td>\n",
              "      <td>116.833531</td>\n",
              "    </tr>\n",
              "    <tr>\n",
              "      <th>2</th>\n",
              "      <td>121.168490</td>\n",
              "      <td>151.957298</td>\n",
              "    </tr>\n",
              "    <tr>\n",
              "      <th>3</th>\n",
              "      <td>64.825210</td>\n",
              "      <td>76.020959</td>\n",
              "    </tr>\n",
              "    <tr>\n",
              "      <th>4</th>\n",
              "      <td>76.334830</td>\n",
              "      <td>75.055654</td>\n",
              "    </tr>\n",
              "  </tbody>\n",
              "</table>\n",
              "</div>\n",
              "    <div class=\"colab-df-buttons\">\n",
              "\n",
              "  <div class=\"colab-df-container\">\n",
              "    <button class=\"colab-df-convert\" onclick=\"convertToInteractive('df-4072c7e0-4263-4bbc-8dff-cacb4280c423')\"\n",
              "            title=\"Convert this dataframe to an interactive table.\"\n",
              "            style=\"display:none;\">\n",
              "\n",
              "  <svg xmlns=\"http://www.w3.org/2000/svg\" height=\"24px\" viewBox=\"0 -960 960 960\">\n",
              "    <path d=\"M120-120v-720h720v720H120Zm60-500h600v-160H180v160Zm220 220h160v-160H400v160Zm0 220h160v-160H400v160ZM180-400h160v-160H180v160Zm440 0h160v-160H620v160ZM180-180h160v-160H180v160Zm440 0h160v-160H620v160Z\"/>\n",
              "  </svg>\n",
              "    </button>\n",
              "\n",
              "  <style>\n",
              "    .colab-df-container {\n",
              "      display:flex;\n",
              "      gap: 12px;\n",
              "    }\n",
              "\n",
              "    .colab-df-convert {\n",
              "      background-color: #E8F0FE;\n",
              "      border: none;\n",
              "      border-radius: 50%;\n",
              "      cursor: pointer;\n",
              "      display: none;\n",
              "      fill: #1967D2;\n",
              "      height: 32px;\n",
              "      padding: 0 0 0 0;\n",
              "      width: 32px;\n",
              "    }\n",
              "\n",
              "    .colab-df-convert:hover {\n",
              "      background-color: #E2EBFA;\n",
              "      box-shadow: 0px 1px 2px rgba(60, 64, 67, 0.3), 0px 1px 3px 1px rgba(60, 64, 67, 0.15);\n",
              "      fill: #174EA6;\n",
              "    }\n",
              "\n",
              "    .colab-df-buttons div {\n",
              "      margin-bottom: 4px;\n",
              "    }\n",
              "\n",
              "    [theme=dark] .colab-df-convert {\n",
              "      background-color: #3B4455;\n",
              "      fill: #D2E3FC;\n",
              "    }\n",
              "\n",
              "    [theme=dark] .colab-df-convert:hover {\n",
              "      background-color: #434B5C;\n",
              "      box-shadow: 0px 1px 3px 1px rgba(0, 0, 0, 0.15);\n",
              "      filter: drop-shadow(0px 1px 2px rgba(0, 0, 0, 0.3));\n",
              "      fill: #FFFFFF;\n",
              "    }\n",
              "  </style>\n",
              "\n",
              "    <script>\n",
              "      const buttonEl =\n",
              "        document.querySelector('#df-4072c7e0-4263-4bbc-8dff-cacb4280c423 button.colab-df-convert');\n",
              "      buttonEl.style.display =\n",
              "        google.colab.kernel.accessAllowed ? 'block' : 'none';\n",
              "\n",
              "      async function convertToInteractive(key) {\n",
              "        const element = document.querySelector('#df-4072c7e0-4263-4bbc-8dff-cacb4280c423');\n",
              "        const dataTable =\n",
              "          await google.colab.kernel.invokeFunction('convertToInteractive',\n",
              "                                                    [key], {});\n",
              "        if (!dataTable) return;\n",
              "\n",
              "        const docLinkHtml = 'Like what you see? Visit the ' +\n",
              "          '<a target=\"_blank\" href=https://colab.research.google.com/notebooks/data_table.ipynb>data table notebook</a>'\n",
              "          + ' to learn more about interactive tables.';\n",
              "        element.innerHTML = '';\n",
              "        dataTable['output_type'] = 'display_data';\n",
              "        await google.colab.output.renderOutput(dataTable, element);\n",
              "        const docLink = document.createElement('div');\n",
              "        docLink.innerHTML = docLinkHtml;\n",
              "        element.appendChild(docLink);\n",
              "      }\n",
              "    </script>\n",
              "  </div>\n",
              "\n",
              "\n",
              "<div id=\"df-b2d3ad00-1d25-47bc-bb87-8bd65494f197\">\n",
              "  <button class=\"colab-df-quickchart\" onclick=\"quickchart('df-b2d3ad00-1d25-47bc-bb87-8bd65494f197')\"\n",
              "            title=\"Suggest charts\"\n",
              "            style=\"display:none;\">\n",
              "\n",
              "<svg xmlns=\"http://www.w3.org/2000/svg\" height=\"24px\"viewBox=\"0 0 24 24\"\n",
              "     width=\"24px\">\n",
              "    <g>\n",
              "        <path d=\"M19 3H5c-1.1 0-2 .9-2 2v14c0 1.1.9 2 2 2h14c1.1 0 2-.9 2-2V5c0-1.1-.9-2-2-2zM9 17H7v-7h2v7zm4 0h-2V7h2v10zm4 0h-2v-4h2v4z\"/>\n",
              "    </g>\n",
              "</svg>\n",
              "  </button>\n",
              "\n",
              "<style>\n",
              "  .colab-df-quickchart {\n",
              "      --bg-color: #E8F0FE;\n",
              "      --fill-color: #1967D2;\n",
              "      --hover-bg-color: #E2EBFA;\n",
              "      --hover-fill-color: #174EA6;\n",
              "      --disabled-fill-color: #AAA;\n",
              "      --disabled-bg-color: #DDD;\n",
              "  }\n",
              "\n",
              "  [theme=dark] .colab-df-quickchart {\n",
              "      --bg-color: #3B4455;\n",
              "      --fill-color: #D2E3FC;\n",
              "      --hover-bg-color: #434B5C;\n",
              "      --hover-fill-color: #FFFFFF;\n",
              "      --disabled-bg-color: #3B4455;\n",
              "      --disabled-fill-color: #666;\n",
              "  }\n",
              "\n",
              "  .colab-df-quickchart {\n",
              "    background-color: var(--bg-color);\n",
              "    border: none;\n",
              "    border-radius: 50%;\n",
              "    cursor: pointer;\n",
              "    display: none;\n",
              "    fill: var(--fill-color);\n",
              "    height: 32px;\n",
              "    padding: 0;\n",
              "    width: 32px;\n",
              "  }\n",
              "\n",
              "  .colab-df-quickchart:hover {\n",
              "    background-color: var(--hover-bg-color);\n",
              "    box-shadow: 0 1px 2px rgba(60, 64, 67, 0.3), 0 1px 3px 1px rgba(60, 64, 67, 0.15);\n",
              "    fill: var(--button-hover-fill-color);\n",
              "  }\n",
              "\n",
              "  .colab-df-quickchart-complete:disabled,\n",
              "  .colab-df-quickchart-complete:disabled:hover {\n",
              "    background-color: var(--disabled-bg-color);\n",
              "    fill: var(--disabled-fill-color);\n",
              "    box-shadow: none;\n",
              "  }\n",
              "\n",
              "  .colab-df-spinner {\n",
              "    border: 2px solid var(--fill-color);\n",
              "    border-color: transparent;\n",
              "    border-bottom-color: var(--fill-color);\n",
              "    animation:\n",
              "      spin 1s steps(1) infinite;\n",
              "  }\n",
              "\n",
              "  @keyframes spin {\n",
              "    0% {\n",
              "      border-color: transparent;\n",
              "      border-bottom-color: var(--fill-color);\n",
              "      border-left-color: var(--fill-color);\n",
              "    }\n",
              "    20% {\n",
              "      border-color: transparent;\n",
              "      border-left-color: var(--fill-color);\n",
              "      border-top-color: var(--fill-color);\n",
              "    }\n",
              "    30% {\n",
              "      border-color: transparent;\n",
              "      border-left-color: var(--fill-color);\n",
              "      border-top-color: var(--fill-color);\n",
              "      border-right-color: var(--fill-color);\n",
              "    }\n",
              "    40% {\n",
              "      border-color: transparent;\n",
              "      border-right-color: var(--fill-color);\n",
              "      border-top-color: var(--fill-color);\n",
              "    }\n",
              "    60% {\n",
              "      border-color: transparent;\n",
              "      border-right-color: var(--fill-color);\n",
              "    }\n",
              "    80% {\n",
              "      border-color: transparent;\n",
              "      border-right-color: var(--fill-color);\n",
              "      border-bottom-color: var(--fill-color);\n",
              "    }\n",
              "    90% {\n",
              "      border-color: transparent;\n",
              "      border-bottom-color: var(--fill-color);\n",
              "    }\n",
              "  }\n",
              "</style>\n",
              "\n",
              "  <script>\n",
              "    async function quickchart(key) {\n",
              "      const quickchartButtonEl =\n",
              "        document.querySelector('#' + key + ' button');\n",
              "      quickchartButtonEl.disabled = true;  // To prevent multiple clicks.\n",
              "      quickchartButtonEl.classList.add('colab-df-spinner');\n",
              "      try {\n",
              "        const charts = await google.colab.kernel.invokeFunction(\n",
              "            'suggestCharts', [key], {});\n",
              "      } catch (error) {\n",
              "        console.error('Error during call to suggestCharts:', error);\n",
              "      }\n",
              "      quickchartButtonEl.classList.remove('colab-df-spinner');\n",
              "      quickchartButtonEl.classList.add('colab-df-quickchart-complete');\n",
              "    }\n",
              "    (() => {\n",
              "      let quickchartButtonEl =\n",
              "        document.querySelector('#df-b2d3ad00-1d25-47bc-bb87-8bd65494f197 button');\n",
              "      quickchartButtonEl.style.display =\n",
              "        google.colab.kernel.accessAllowed ? 'block' : 'none';\n",
              "    })();\n",
              "  </script>\n",
              "</div>\n",
              "\n",
              "    </div>\n",
              "  </div>\n"
            ],
            "application/vnd.google.colaboratory.intrinsic+json": {
              "type": "dataframe",
              "variable_name": "results",
              "summary": "{\n  \"name\": \"results\",\n  \"rows\": 50,\n  \"fields\": [\n    {\n      \"column\": \"y_true\",\n      \"properties\": {\n        \"dtype\": \"number\",\n        \"std\": 20.566078764489568,\n        \"min\": 53.9615767052883,\n        \"max\": 139.2945026583278,\n        \"num_unique_values\": 50,\n        \"samples\": [\n          98.88904602206762,\n          95.58060800933553,\n          97.85939280090885\n        ],\n        \"semantic_type\": \"\",\n        \"description\": \"\"\n      }\n    },\n    {\n      \"column\": \"y_pred\",\n      \"properties\": {\n        \"dtype\": \"number\",\n        \"std\": 23.76758129024609,\n        \"min\": 49.65995203879373,\n        \"max\": 151.95729782154413,\n        \"num_unique_values\": 50,\n        \"samples\": [\n          107.70544359156213,\n          103.13452026759309,\n          91.93545355852015\n        ],\n        \"semantic_type\": \"\",\n        \"description\": \"\"\n      }\n    }\n  ]\n}"
            }
          },
          "metadata": {},
          "execution_count": 14
        }
      ]
    },
    {
      "cell_type": "code",
      "source": [
        "results['error'] = results['y_true'] - results['y_pred']\n",
        "results['error_squared'] = results['error'] ** 2\n",
        "results.head()"
      ],
      "metadata": {
        "colab": {
          "base_uri": "https://localhost:8080/",
          "height": 206
        },
        "id": "SQNlnFEUf84L",
        "outputId": "afa194c5-c25f-4be5-aaa1-a40c7b396b94"
      },
      "execution_count": 18,
      "outputs": [
        {
          "output_type": "execute_result",
          "data": {
            "text/plain": [
              "       y_true      y_pred      error  error_squared\n",
              "0   80.701531   86.467100  -5.765570      33.241793\n",
              "1  113.721029  116.833531  -3.112502       9.687666\n",
              "2  121.168490  151.957298 -30.788808     947.950703\n",
              "3   64.825210   76.020959 -11.195749     125.344798\n",
              "4   76.334830   75.055654   1.279176       1.636291"
            ],
            "text/html": [
              "\n",
              "  <div id=\"df-cc9f30e7-e0fc-42d9-a5ff-d1cb61b2fc05\" class=\"colab-df-container\">\n",
              "    <div>\n",
              "<style scoped>\n",
              "    .dataframe tbody tr th:only-of-type {\n",
              "        vertical-align: middle;\n",
              "    }\n",
              "\n",
              "    .dataframe tbody tr th {\n",
              "        vertical-align: top;\n",
              "    }\n",
              "\n",
              "    .dataframe thead th {\n",
              "        text-align: right;\n",
              "    }\n",
              "</style>\n",
              "<table border=\"1\" class=\"dataframe\">\n",
              "  <thead>\n",
              "    <tr style=\"text-align: right;\">\n",
              "      <th></th>\n",
              "      <th>y_true</th>\n",
              "      <th>y_pred</th>\n",
              "      <th>error</th>\n",
              "      <th>error_squared</th>\n",
              "    </tr>\n",
              "  </thead>\n",
              "  <tbody>\n",
              "    <tr>\n",
              "      <th>0</th>\n",
              "      <td>80.701531</td>\n",
              "      <td>86.467100</td>\n",
              "      <td>-5.765570</td>\n",
              "      <td>33.241793</td>\n",
              "    </tr>\n",
              "    <tr>\n",
              "      <th>1</th>\n",
              "      <td>113.721029</td>\n",
              "      <td>116.833531</td>\n",
              "      <td>-3.112502</td>\n",
              "      <td>9.687666</td>\n",
              "    </tr>\n",
              "    <tr>\n",
              "      <th>2</th>\n",
              "      <td>121.168490</td>\n",
              "      <td>151.957298</td>\n",
              "      <td>-30.788808</td>\n",
              "      <td>947.950703</td>\n",
              "    </tr>\n",
              "    <tr>\n",
              "      <th>3</th>\n",
              "      <td>64.825210</td>\n",
              "      <td>76.020959</td>\n",
              "      <td>-11.195749</td>\n",
              "      <td>125.344798</td>\n",
              "    </tr>\n",
              "    <tr>\n",
              "      <th>4</th>\n",
              "      <td>76.334830</td>\n",
              "      <td>75.055654</td>\n",
              "      <td>1.279176</td>\n",
              "      <td>1.636291</td>\n",
              "    </tr>\n",
              "  </tbody>\n",
              "</table>\n",
              "</div>\n",
              "    <div class=\"colab-df-buttons\">\n",
              "\n",
              "  <div class=\"colab-df-container\">\n",
              "    <button class=\"colab-df-convert\" onclick=\"convertToInteractive('df-cc9f30e7-e0fc-42d9-a5ff-d1cb61b2fc05')\"\n",
              "            title=\"Convert this dataframe to an interactive table.\"\n",
              "            style=\"display:none;\">\n",
              "\n",
              "  <svg xmlns=\"http://www.w3.org/2000/svg\" height=\"24px\" viewBox=\"0 -960 960 960\">\n",
              "    <path d=\"M120-120v-720h720v720H120Zm60-500h600v-160H180v160Zm220 220h160v-160H400v160Zm0 220h160v-160H400v160ZM180-400h160v-160H180v160Zm440 0h160v-160H620v160ZM180-180h160v-160H180v160Zm440 0h160v-160H620v160Z\"/>\n",
              "  </svg>\n",
              "    </button>\n",
              "\n",
              "  <style>\n",
              "    .colab-df-container {\n",
              "      display:flex;\n",
              "      gap: 12px;\n",
              "    }\n",
              "\n",
              "    .colab-df-convert {\n",
              "      background-color: #E8F0FE;\n",
              "      border: none;\n",
              "      border-radius: 50%;\n",
              "      cursor: pointer;\n",
              "      display: none;\n",
              "      fill: #1967D2;\n",
              "      height: 32px;\n",
              "      padding: 0 0 0 0;\n",
              "      width: 32px;\n",
              "    }\n",
              "\n",
              "    .colab-df-convert:hover {\n",
              "      background-color: #E2EBFA;\n",
              "      box-shadow: 0px 1px 2px rgba(60, 64, 67, 0.3), 0px 1px 3px 1px rgba(60, 64, 67, 0.15);\n",
              "      fill: #174EA6;\n",
              "    }\n",
              "\n",
              "    .colab-df-buttons div {\n",
              "      margin-bottom: 4px;\n",
              "    }\n",
              "\n",
              "    [theme=dark] .colab-df-convert {\n",
              "      background-color: #3B4455;\n",
              "      fill: #D2E3FC;\n",
              "    }\n",
              "\n",
              "    [theme=dark] .colab-df-convert:hover {\n",
              "      background-color: #434B5C;\n",
              "      box-shadow: 0px 1px 3px 1px rgba(0, 0, 0, 0.15);\n",
              "      filter: drop-shadow(0px 1px 2px rgba(0, 0, 0, 0.3));\n",
              "      fill: #FFFFFF;\n",
              "    }\n",
              "  </style>\n",
              "\n",
              "    <script>\n",
              "      const buttonEl =\n",
              "        document.querySelector('#df-cc9f30e7-e0fc-42d9-a5ff-d1cb61b2fc05 button.colab-df-convert');\n",
              "      buttonEl.style.display =\n",
              "        google.colab.kernel.accessAllowed ? 'block' : 'none';\n",
              "\n",
              "      async function convertToInteractive(key) {\n",
              "        const element = document.querySelector('#df-cc9f30e7-e0fc-42d9-a5ff-d1cb61b2fc05');\n",
              "        const dataTable =\n",
              "          await google.colab.kernel.invokeFunction('convertToInteractive',\n",
              "                                                    [key], {});\n",
              "        if (!dataTable) return;\n",
              "\n",
              "        const docLinkHtml = 'Like what you see? Visit the ' +\n",
              "          '<a target=\"_blank\" href=https://colab.research.google.com/notebooks/data_table.ipynb>data table notebook</a>'\n",
              "          + ' to learn more about interactive tables.';\n",
              "        element.innerHTML = '';\n",
              "        dataTable['output_type'] = 'display_data';\n",
              "        await google.colab.output.renderOutput(dataTable, element);\n",
              "        const docLink = document.createElement('div');\n",
              "        docLink.innerHTML = docLinkHtml;\n",
              "        element.appendChild(docLink);\n",
              "      }\n",
              "    </script>\n",
              "  </div>\n",
              "\n",
              "\n",
              "<div id=\"df-af362b17-16e5-4cc4-80e0-11c629214f67\">\n",
              "  <button class=\"colab-df-quickchart\" onclick=\"quickchart('df-af362b17-16e5-4cc4-80e0-11c629214f67')\"\n",
              "            title=\"Suggest charts\"\n",
              "            style=\"display:none;\">\n",
              "\n",
              "<svg xmlns=\"http://www.w3.org/2000/svg\" height=\"24px\"viewBox=\"0 0 24 24\"\n",
              "     width=\"24px\">\n",
              "    <g>\n",
              "        <path d=\"M19 3H5c-1.1 0-2 .9-2 2v14c0 1.1.9 2 2 2h14c1.1 0 2-.9 2-2V5c0-1.1-.9-2-2-2zM9 17H7v-7h2v7zm4 0h-2V7h2v10zm4 0h-2v-4h2v4z\"/>\n",
              "    </g>\n",
              "</svg>\n",
              "  </button>\n",
              "\n",
              "<style>\n",
              "  .colab-df-quickchart {\n",
              "      --bg-color: #E8F0FE;\n",
              "      --fill-color: #1967D2;\n",
              "      --hover-bg-color: #E2EBFA;\n",
              "      --hover-fill-color: #174EA6;\n",
              "      --disabled-fill-color: #AAA;\n",
              "      --disabled-bg-color: #DDD;\n",
              "  }\n",
              "\n",
              "  [theme=dark] .colab-df-quickchart {\n",
              "      --bg-color: #3B4455;\n",
              "      --fill-color: #D2E3FC;\n",
              "      --hover-bg-color: #434B5C;\n",
              "      --hover-fill-color: #FFFFFF;\n",
              "      --disabled-bg-color: #3B4455;\n",
              "      --disabled-fill-color: #666;\n",
              "  }\n",
              "\n",
              "  .colab-df-quickchart {\n",
              "    background-color: var(--bg-color);\n",
              "    border: none;\n",
              "    border-radius: 50%;\n",
              "    cursor: pointer;\n",
              "    display: none;\n",
              "    fill: var(--fill-color);\n",
              "    height: 32px;\n",
              "    padding: 0;\n",
              "    width: 32px;\n",
              "  }\n",
              "\n",
              "  .colab-df-quickchart:hover {\n",
              "    background-color: var(--hover-bg-color);\n",
              "    box-shadow: 0 1px 2px rgba(60, 64, 67, 0.3), 0 1px 3px 1px rgba(60, 64, 67, 0.15);\n",
              "    fill: var(--button-hover-fill-color);\n",
              "  }\n",
              "\n",
              "  .colab-df-quickchart-complete:disabled,\n",
              "  .colab-df-quickchart-complete:disabled:hover {\n",
              "    background-color: var(--disabled-bg-color);\n",
              "    fill: var(--disabled-fill-color);\n",
              "    box-shadow: none;\n",
              "  }\n",
              "\n",
              "  .colab-df-spinner {\n",
              "    border: 2px solid var(--fill-color);\n",
              "    border-color: transparent;\n",
              "    border-bottom-color: var(--fill-color);\n",
              "    animation:\n",
              "      spin 1s steps(1) infinite;\n",
              "  }\n",
              "\n",
              "  @keyframes spin {\n",
              "    0% {\n",
              "      border-color: transparent;\n",
              "      border-bottom-color: var(--fill-color);\n",
              "      border-left-color: var(--fill-color);\n",
              "    }\n",
              "    20% {\n",
              "      border-color: transparent;\n",
              "      border-left-color: var(--fill-color);\n",
              "      border-top-color: var(--fill-color);\n",
              "    }\n",
              "    30% {\n",
              "      border-color: transparent;\n",
              "      border-left-color: var(--fill-color);\n",
              "      border-top-color: var(--fill-color);\n",
              "      border-right-color: var(--fill-color);\n",
              "    }\n",
              "    40% {\n",
              "      border-color: transparent;\n",
              "      border-right-color: var(--fill-color);\n",
              "      border-top-color: var(--fill-color);\n",
              "    }\n",
              "    60% {\n",
              "      border-color: transparent;\n",
              "      border-right-color: var(--fill-color);\n",
              "    }\n",
              "    80% {\n",
              "      border-color: transparent;\n",
              "      border-right-color: var(--fill-color);\n",
              "      border-bottom-color: var(--fill-color);\n",
              "    }\n",
              "    90% {\n",
              "      border-color: transparent;\n",
              "      border-bottom-color: var(--fill-color);\n",
              "    }\n",
              "  }\n",
              "</style>\n",
              "\n",
              "  <script>\n",
              "    async function quickchart(key) {\n",
              "      const quickchartButtonEl =\n",
              "        document.querySelector('#' + key + ' button');\n",
              "      quickchartButtonEl.disabled = true;  // To prevent multiple clicks.\n",
              "      quickchartButtonEl.classList.add('colab-df-spinner');\n",
              "      try {\n",
              "        const charts = await google.colab.kernel.invokeFunction(\n",
              "            'suggestCharts', [key], {});\n",
              "      } catch (error) {\n",
              "        console.error('Error during call to suggestCharts:', error);\n",
              "      }\n",
              "      quickchartButtonEl.classList.remove('colab-df-spinner');\n",
              "      quickchartButtonEl.classList.add('colab-df-quickchart-complete');\n",
              "    }\n",
              "    (() => {\n",
              "      let quickchartButtonEl =\n",
              "        document.querySelector('#df-af362b17-16e5-4cc4-80e0-11c629214f67 button');\n",
              "      quickchartButtonEl.style.display =\n",
              "        google.colab.kernel.accessAllowed ? 'block' : 'none';\n",
              "    })();\n",
              "  </script>\n",
              "</div>\n",
              "\n",
              "    </div>\n",
              "  </div>\n"
            ],
            "application/vnd.google.colaboratory.intrinsic+json": {
              "type": "dataframe",
              "variable_name": "results",
              "summary": "{\n  \"name\": \"results\",\n  \"rows\": 50,\n  \"fields\": [\n    {\n      \"column\": \"y_true\",\n      \"properties\": {\n        \"dtype\": \"number\",\n        \"std\": 20.566078764489568,\n        \"min\": 53.9615767052883,\n        \"max\": 139.2945026583278,\n        \"num_unique_values\": 50,\n        \"samples\": [\n          98.88904602206762,\n          95.58060800933553,\n          97.85939280090885\n        ],\n        \"semantic_type\": \"\",\n        \"description\": \"\"\n      }\n    },\n    {\n      \"column\": \"y_pred\",\n      \"properties\": {\n        \"dtype\": \"number\",\n        \"std\": 23.76758129024609,\n        \"min\": 49.65995203879373,\n        \"max\": 151.95729782154413,\n        \"num_unique_values\": 50,\n        \"samples\": [\n          107.70544359156213,\n          103.13452026759309,\n          91.93545355852015\n        ],\n        \"semantic_type\": \"\",\n        \"description\": \"\"\n      }\n    },\n    {\n      \"column\": \"error\",\n      \"properties\": {\n        \"dtype\": \"number\",\n        \"std\": 10.292912385703328,\n        \"min\": -30.78880808455237,\n        \"max\": 18.0488210066452,\n        \"num_unique_values\": 50,\n        \"samples\": [\n          -8.816397569494512,\n          -7.553912258257554,\n          5.923939242388698\n        ],\n        \"semantic_type\": \"\",\n        \"description\": \"\"\n      }\n    },\n    {\n      \"column\": \"error_squared\",\n      \"properties\": {\n        \"dtype\": \"number\",\n        \"std\": 153.76670727314257,\n        \"min\": 0.006356300956342937,\n        \"max\": 947.9507032673974,\n        \"num_unique_values\": 50,\n        \"samples\": [\n          77.72886610338874,\n          57.06159040545374,\n          35.09305614751278\n        ],\n        \"semantic_type\": \"\",\n        \"description\": \"\"\n      }\n    }\n  ]\n}"
            }
          },
          "metadata": {},
          "execution_count": 18
        }
      ]
    },
    {
      "cell_type": "code",
      "source": [
        "print(f\"MAE - mean absolute error: {results['error'].abs().sum() / len(results):.4f}\")\n",
        "\n",
        "print(f\"MSE - mean squared error: {results['error_squared'].sum() / len(results):.4f}\")\n",
        "\n",
        "print(f\"RMSE - root mean squared error: {np.sqrt(results['error_squared'].sum() / len(results)):.4f}\")"
      ],
      "metadata": {
        "colab": {
          "base_uri": "https://localhost:8080/"
        },
        "id": "sI83epD3hKDH",
        "outputId": "aef8d34d-838c-4782-a7d9-56ce56843a43"
      },
      "execution_count": 19,
      "outputs": [
        {
          "output_type": "stream",
          "name": "stdout",
          "text": [
            "MAE - mean absolute error: 8.3686\n",
            "MSE - mean squared error: 104.8293\n",
            "RMSE - root mean squared error: 10.2386\n"
          ]
        }
      ]
    },
    {
      "cell_type": "markdown",
      "source": [
        "### <a name='a2'></a>  Interpretacja graficzna"
      ],
      "metadata": {
        "id": "8kV7yNg3dS8n"
      }
    },
    {
      "cell_type": "code",
      "source": [
        "def plot_regression_results(y_true, y_pred):\n",
        "\n",
        "    results = pd.DataFrame({'y_true': y_true, 'y_pred': y_pred})\n",
        "    min = results[['y_true', 'y_pred']].min().min()\n",
        "    max = results[['y_true', 'y_pred']].max().max()\n",
        "\n",
        "    fig = go.Figure(data=[go.Scatter(x=results['y_true'], y=results['y_pred'], mode='markers'),\n",
        "                    go.Scatter(x=[min, max], y=[min, max])],\n",
        "                    layout=go.Layout(showlegend=False, width=800,\n",
        "                                     xaxis_title='y_true',\n",
        "                                     yaxis_title='y_pred',\n",
        "                                     title='Regresja: y_true vs. y_pred'))\n",
        "    fig.show()\n",
        "\n",
        "plot_regression_results(y_true, y_pred)"
      ],
      "metadata": {
        "colab": {
          "base_uri": "https://localhost:8080/",
          "height": 542
        },
        "id": "eV0GhGtDhecF",
        "outputId": "b9522b6c-31b8-4bf1-800d-0c3299276309"
      },
      "execution_count": 20,
      "outputs": [
        {
          "output_type": "display_data",
          "data": {
            "text/html": [
              "<html>\n",
              "<head><meta charset=\"utf-8\" /></head>\n",
              "<body>\n",
              "    <div>            <script src=\"https://cdnjs.cloudflare.com/ajax/libs/mathjax/2.7.5/MathJax.js?config=TeX-AMS-MML_SVG\"></script><script type=\"text/javascript\">if (window.MathJax && window.MathJax.Hub && window.MathJax.Hub.Config) {window.MathJax.Hub.Config({SVG: {font: \"STIX-Web\"}});}</script>                <script type=\"text/javascript\">window.PlotlyConfig = {MathJaxConfig: 'local'};</script>\n",
              "        <script charset=\"utf-8\" src=\"https://cdn.plot.ly/plotly-2.35.2.min.js\"></script>                <div id=\"617e0b64-aa6e-4a54-ba97-ed4047081460\" class=\"plotly-graph-div\" style=\"height:525px; width:800px;\"></div>            <script type=\"text/javascript\">                                    window.PLOTLYENV=window.PLOTLYENV || {};                                    if (document.getElementById(\"617e0b64-aa6e-4a54-ba97-ed4047081460\")) {                    Plotly.newPlot(                        \"617e0b64-aa6e-4a54-ba97-ed4047081460\",                        [{\"mode\":\"markers\",\"x\":[80.70153078839792,113.72102919996878,121.16848973699176,64.82521027153771,76.3348297466845,59.21535644479799,94.61186331110885,114.35084511591924,130.04714104192055,101.4818956083955,132.57231091142583,72.39797083570217,65.9323512128969,98.88904602206762,107.68130897878615,99.34610503811814,58.65115799920247,98.21759920974424,73.91060998990294,113.39345097660077,107.33196492193696,81.2024042734529,89.72266165326613,78.81572956222097,98.74641805453656,119.10284641002477,80.28547907328912,110.08093031035689,89.39484763255118,84.14254335475312,97.85939280090885,79.29515355161251,88.92701389305635,76.04244214822303,139.2945026583278,100.70527103943458,86.00548984014829,104.27959821468444,97.7534390061834,95.58060800933553,112.2833340008685,115.1501542009461,89.38997704778944,88.4836351871064,94.49896605696712,53.9615767052883,69.69617875602896,127.3374853488905,132.89935427002567,95.01927920887243],\"y\":[86.46710041895558,116.83353074540415,151.95729782154413,76.02095938588349,75.05565383187684,49.65995203879373,78.54740010853313,116.38548147459147,122.48363358907753,87.25935851241876,126.10658206900057,61.582490799558215,82.80376756362256,107.70544359156213,107.60158256561998,114.1455464270184,59.42484107567865,89.6047571964616,89.14185076259952,118.78255141344737,96.9595033786724,79.29901749261681,80.96647911941855,64.9877322525776,108.00819352985297,138.19701281472607,66.2998033350977,115.7106226772626,82.88842194133291,79.27128951710615,91.93545355852015,70.65524585481435,89.41223017250462,67.73294098411266,141.9990709161262,100.20288994494321,83.61600937148418,95.20396159426846,91.98572570050007,103.13452026759309,117.29250587711232,105.37460175296059,90.3833001020817,95.9975064208243,77.8049132457534,59.39517862908765,63.06994116657049,133.0434720348221,125.2667627046005,76.97045820222723],\"type\":\"scatter\"},{\"x\":[49.65995203879373,151.95729782154413],\"y\":[49.65995203879373,151.95729782154413],\"type\":\"scatter\"}],                        {\"showlegend\":false,\"title\":{\"text\":\"Regresja: y_true vs. y_pred\"},\"width\":800,\"xaxis\":{\"title\":{\"text\":\"y_true\"}},\"yaxis\":{\"title\":{\"text\":\"y_pred\"}},\"template\":{\"data\":{\"histogram2dcontour\":[{\"type\":\"histogram2dcontour\",\"colorbar\":{\"outlinewidth\":0,\"ticks\":\"\"},\"colorscale\":[[0.0,\"#0d0887\"],[0.1111111111111111,\"#46039f\"],[0.2222222222222222,\"#7201a8\"],[0.3333333333333333,\"#9c179e\"],[0.4444444444444444,\"#bd3786\"],[0.5555555555555556,\"#d8576b\"],[0.6666666666666666,\"#ed7953\"],[0.7777777777777778,\"#fb9f3a\"],[0.8888888888888888,\"#fdca26\"],[1.0,\"#f0f921\"]]}],\"choropleth\":[{\"type\":\"choropleth\",\"colorbar\":{\"outlinewidth\":0,\"ticks\":\"\"}}],\"histogram2d\":[{\"type\":\"histogram2d\",\"colorbar\":{\"outlinewidth\":0,\"ticks\":\"\"},\"colorscale\":[[0.0,\"#0d0887\"],[0.1111111111111111,\"#46039f\"],[0.2222222222222222,\"#7201a8\"],[0.3333333333333333,\"#9c179e\"],[0.4444444444444444,\"#bd3786\"],[0.5555555555555556,\"#d8576b\"],[0.6666666666666666,\"#ed7953\"],[0.7777777777777778,\"#fb9f3a\"],[0.8888888888888888,\"#fdca26\"],[1.0,\"#f0f921\"]]}],\"heatmap\":[{\"type\":\"heatmap\",\"colorbar\":{\"outlinewidth\":0,\"ticks\":\"\"},\"colorscale\":[[0.0,\"#0d0887\"],[0.1111111111111111,\"#46039f\"],[0.2222222222222222,\"#7201a8\"],[0.3333333333333333,\"#9c179e\"],[0.4444444444444444,\"#bd3786\"],[0.5555555555555556,\"#d8576b\"],[0.6666666666666666,\"#ed7953\"],[0.7777777777777778,\"#fb9f3a\"],[0.8888888888888888,\"#fdca26\"],[1.0,\"#f0f921\"]]}],\"heatmapgl\":[{\"type\":\"heatmapgl\",\"colorbar\":{\"outlinewidth\":0,\"ticks\":\"\"},\"colorscale\":[[0.0,\"#0d0887\"],[0.1111111111111111,\"#46039f\"],[0.2222222222222222,\"#7201a8\"],[0.3333333333333333,\"#9c179e\"],[0.4444444444444444,\"#bd3786\"],[0.5555555555555556,\"#d8576b\"],[0.6666666666666666,\"#ed7953\"],[0.7777777777777778,\"#fb9f3a\"],[0.8888888888888888,\"#fdca26\"],[1.0,\"#f0f921\"]]}],\"contourcarpet\":[{\"type\":\"contourcarpet\",\"colorbar\":{\"outlinewidth\":0,\"ticks\":\"\"}}],\"contour\":[{\"type\":\"contour\",\"colorbar\":{\"outlinewidth\":0,\"ticks\":\"\"},\"colorscale\":[[0.0,\"#0d0887\"],[0.1111111111111111,\"#46039f\"],[0.2222222222222222,\"#7201a8\"],[0.3333333333333333,\"#9c179e\"],[0.4444444444444444,\"#bd3786\"],[0.5555555555555556,\"#d8576b\"],[0.6666666666666666,\"#ed7953\"],[0.7777777777777778,\"#fb9f3a\"],[0.8888888888888888,\"#fdca26\"],[1.0,\"#f0f921\"]]}],\"surface\":[{\"type\":\"surface\",\"colorbar\":{\"outlinewidth\":0,\"ticks\":\"\"},\"colorscale\":[[0.0,\"#0d0887\"],[0.1111111111111111,\"#46039f\"],[0.2222222222222222,\"#7201a8\"],[0.3333333333333333,\"#9c179e\"],[0.4444444444444444,\"#bd3786\"],[0.5555555555555556,\"#d8576b\"],[0.6666666666666666,\"#ed7953\"],[0.7777777777777778,\"#fb9f3a\"],[0.8888888888888888,\"#fdca26\"],[1.0,\"#f0f921\"]]}],\"mesh3d\":[{\"type\":\"mesh3d\",\"colorbar\":{\"outlinewidth\":0,\"ticks\":\"\"}}],\"scatter\":[{\"fillpattern\":{\"fillmode\":\"overlay\",\"size\":10,\"solidity\":0.2},\"type\":\"scatter\"}],\"parcoords\":[{\"type\":\"parcoords\",\"line\":{\"colorbar\":{\"outlinewidth\":0,\"ticks\":\"\"}}}],\"scatterpolargl\":[{\"type\":\"scatterpolargl\",\"marker\":{\"colorbar\":{\"outlinewidth\":0,\"ticks\":\"\"}}}],\"bar\":[{\"error_x\":{\"color\":\"#2a3f5f\"},\"error_y\":{\"color\":\"#2a3f5f\"},\"marker\":{\"line\":{\"color\":\"#E5ECF6\",\"width\":0.5},\"pattern\":{\"fillmode\":\"overlay\",\"size\":10,\"solidity\":0.2}},\"type\":\"bar\"}],\"scattergeo\":[{\"type\":\"scattergeo\",\"marker\":{\"colorbar\":{\"outlinewidth\":0,\"ticks\":\"\"}}}],\"scatterpolar\":[{\"type\":\"scatterpolar\",\"marker\":{\"colorbar\":{\"outlinewidth\":0,\"ticks\":\"\"}}}],\"histogram\":[{\"marker\":{\"pattern\":{\"fillmode\":\"overlay\",\"size\":10,\"solidity\":0.2}},\"type\":\"histogram\"}],\"scattergl\":[{\"type\":\"scattergl\",\"marker\":{\"colorbar\":{\"outlinewidth\":0,\"ticks\":\"\"}}}],\"scatter3d\":[{\"type\":\"scatter3d\",\"line\":{\"colorbar\":{\"outlinewidth\":0,\"ticks\":\"\"}},\"marker\":{\"colorbar\":{\"outlinewidth\":0,\"ticks\":\"\"}}}],\"scattermapbox\":[{\"type\":\"scattermapbox\",\"marker\":{\"colorbar\":{\"outlinewidth\":0,\"ticks\":\"\"}}}],\"scatterternary\":[{\"type\":\"scatterternary\",\"marker\":{\"colorbar\":{\"outlinewidth\":0,\"ticks\":\"\"}}}],\"scattercarpet\":[{\"type\":\"scattercarpet\",\"marker\":{\"colorbar\":{\"outlinewidth\":0,\"ticks\":\"\"}}}],\"carpet\":[{\"aaxis\":{\"endlinecolor\":\"#2a3f5f\",\"gridcolor\":\"white\",\"linecolor\":\"white\",\"minorgridcolor\":\"white\",\"startlinecolor\":\"#2a3f5f\"},\"baxis\":{\"endlinecolor\":\"#2a3f5f\",\"gridcolor\":\"white\",\"linecolor\":\"white\",\"minorgridcolor\":\"white\",\"startlinecolor\":\"#2a3f5f\"},\"type\":\"carpet\"}],\"table\":[{\"cells\":{\"fill\":{\"color\":\"#EBF0F8\"},\"line\":{\"color\":\"white\"}},\"header\":{\"fill\":{\"color\":\"#C8D4E3\"},\"line\":{\"color\":\"white\"}},\"type\":\"table\"}],\"barpolar\":[{\"marker\":{\"line\":{\"color\":\"#E5ECF6\",\"width\":0.5},\"pattern\":{\"fillmode\":\"overlay\",\"size\":10,\"solidity\":0.2}},\"type\":\"barpolar\"}],\"pie\":[{\"automargin\":true,\"type\":\"pie\"}]},\"layout\":{\"autotypenumbers\":\"strict\",\"colorway\":[\"#636efa\",\"#EF553B\",\"#00cc96\",\"#ab63fa\",\"#FFA15A\",\"#19d3f3\",\"#FF6692\",\"#B6E880\",\"#FF97FF\",\"#FECB52\"],\"font\":{\"color\":\"#2a3f5f\"},\"hovermode\":\"closest\",\"hoverlabel\":{\"align\":\"left\"},\"paper_bgcolor\":\"white\",\"plot_bgcolor\":\"#E5ECF6\",\"polar\":{\"bgcolor\":\"#E5ECF6\",\"angularaxis\":{\"gridcolor\":\"white\",\"linecolor\":\"white\",\"ticks\":\"\"},\"radialaxis\":{\"gridcolor\":\"white\",\"linecolor\":\"white\",\"ticks\":\"\"}},\"ternary\":{\"bgcolor\":\"#E5ECF6\",\"aaxis\":{\"gridcolor\":\"white\",\"linecolor\":\"white\",\"ticks\":\"\"},\"baxis\":{\"gridcolor\":\"white\",\"linecolor\":\"white\",\"ticks\":\"\"},\"caxis\":{\"gridcolor\":\"white\",\"linecolor\":\"white\",\"ticks\":\"\"}},\"coloraxis\":{\"colorbar\":{\"outlinewidth\":0,\"ticks\":\"\"}},\"colorscale\":{\"sequential\":[[0.0,\"#0d0887\"],[0.1111111111111111,\"#46039f\"],[0.2222222222222222,\"#7201a8\"],[0.3333333333333333,\"#9c179e\"],[0.4444444444444444,\"#bd3786\"],[0.5555555555555556,\"#d8576b\"],[0.6666666666666666,\"#ed7953\"],[0.7777777777777778,\"#fb9f3a\"],[0.8888888888888888,\"#fdca26\"],[1.0,\"#f0f921\"]],\"sequentialminus\":[[0.0,\"#0d0887\"],[0.1111111111111111,\"#46039f\"],[0.2222222222222222,\"#7201a8\"],[0.3333333333333333,\"#9c179e\"],[0.4444444444444444,\"#bd3786\"],[0.5555555555555556,\"#d8576b\"],[0.6666666666666666,\"#ed7953\"],[0.7777777777777778,\"#fb9f3a\"],[0.8888888888888888,\"#fdca26\"],[1.0,\"#f0f921\"]],\"diverging\":[[0,\"#8e0152\"],[0.1,\"#c51b7d\"],[0.2,\"#de77ae\"],[0.3,\"#f1b6da\"],[0.4,\"#fde0ef\"],[0.5,\"#f7f7f7\"],[0.6,\"#e6f5d0\"],[0.7,\"#b8e186\"],[0.8,\"#7fbc41\"],[0.9,\"#4d9221\"],[1,\"#276419\"]]},\"xaxis\":{\"gridcolor\":\"white\",\"linecolor\":\"white\",\"ticks\":\"\",\"title\":{\"standoff\":15},\"zerolinecolor\":\"white\",\"automargin\":true,\"zerolinewidth\":2},\"yaxis\":{\"gridcolor\":\"white\",\"linecolor\":\"white\",\"ticks\":\"\",\"title\":{\"standoff\":15},\"zerolinecolor\":\"white\",\"automargin\":true,\"zerolinewidth\":2},\"scene\":{\"xaxis\":{\"backgroundcolor\":\"#E5ECF6\",\"gridcolor\":\"white\",\"linecolor\":\"white\",\"showbackground\":true,\"ticks\":\"\",\"zerolinecolor\":\"white\",\"gridwidth\":2},\"yaxis\":{\"backgroundcolor\":\"#E5ECF6\",\"gridcolor\":\"white\",\"linecolor\":\"white\",\"showbackground\":true,\"ticks\":\"\",\"zerolinecolor\":\"white\",\"gridwidth\":2},\"zaxis\":{\"backgroundcolor\":\"#E5ECF6\",\"gridcolor\":\"white\",\"linecolor\":\"white\",\"showbackground\":true,\"ticks\":\"\",\"zerolinecolor\":\"white\",\"gridwidth\":2}},\"shapedefaults\":{\"line\":{\"color\":\"#2a3f5f\"}},\"annotationdefaults\":{\"arrowcolor\":\"#2a3f5f\",\"arrowhead\":0,\"arrowwidth\":1},\"geo\":{\"bgcolor\":\"white\",\"landcolor\":\"#E5ECF6\",\"subunitcolor\":\"white\",\"showland\":true,\"showlakes\":true,\"lakecolor\":\"white\"},\"title\":{\"x\":0.05},\"mapbox\":{\"style\":\"light\"}}}},                        {\"responsive\": true}                    ).then(function(){\n",
              "                            \n",
              "var gd = document.getElementById('617e0b64-aa6e-4a54-ba97-ed4047081460');\n",
              "var x = new MutationObserver(function (mutations, observer) {{\n",
              "        var display = window.getComputedStyle(gd).display;\n",
              "        if (!display || display === 'none') {{\n",
              "            console.log([gd, 'removed!']);\n",
              "            Plotly.purge(gd);\n",
              "            observer.disconnect();\n",
              "        }}\n",
              "}});\n",
              "\n",
              "// Listen for the removal of the full notebook cells\n",
              "var notebookContainer = gd.closest('#notebook-container');\n",
              "if (notebookContainer) {{\n",
              "    x.observe(notebookContainer, {childList: true});\n",
              "}}\n",
              "\n",
              "// Listen for the clearing of the current output cell\n",
              "var outputEl = gd.closest('.output');\n",
              "if (outputEl) {{\n",
              "    x.observe(outputEl, {childList: true});\n",
              "}}\n",
              "\n",
              "                        })                };                            </script>        </div>\n",
              "</body>\n",
              "</html>"
            ]
          },
          "metadata": {}
        }
      ]
    },
    {
      "cell_type": "code",
      "source": [
        "y_true = 100 + 20 * np.random.randn(1000)\n",
        "y_pred = y_true + 10 * np.random.randn(1000)\n",
        "\n",
        "results = pd.DataFrame({'y_true': y_true, 'y_pred': y_pred})\n",
        "results['error'] = results['y_true'] - results['y_pred']\n",
        "\n",
        "px.histogram(results, x='error', nbins=50, width=800)"
      ],
      "metadata": {
        "colab": {
          "base_uri": "https://localhost:8080/",
          "height": 542
        },
        "id": "4U7sgXWhiDPq",
        "outputId": "be1361b2-a85b-4358-cc8c-14c7c1168bc9"
      },
      "execution_count": 21,
      "outputs": [
        {
          "output_type": "display_data",
          "data": {
            "text/html": [
              "<html>\n",
              "<head><meta charset=\"utf-8\" /></head>\n",
              "<body>\n",
              "    <div>            <script src=\"https://cdnjs.cloudflare.com/ajax/libs/mathjax/2.7.5/MathJax.js?config=TeX-AMS-MML_SVG\"></script><script type=\"text/javascript\">if (window.MathJax && window.MathJax.Hub && window.MathJax.Hub.Config) {window.MathJax.Hub.Config({SVG: {font: \"STIX-Web\"}});}</script>                <script type=\"text/javascript\">window.PlotlyConfig = {MathJaxConfig: 'local'};</script>\n",
              "        <script charset=\"utf-8\" src=\"https://cdn.plot.ly/plotly-2.35.2.min.js\"></script>                <div id=\"4a1fffdb-8c3f-4a7c-83a7-22dd9132e04f\" class=\"plotly-graph-div\" style=\"height:525px; width:800px;\"></div>            <script type=\"text/javascript\">                                    window.PLOTLYENV=window.PLOTLYENV || {};                                    if (document.getElementById(\"4a1fffdb-8c3f-4a7c-83a7-22dd9132e04f\")) {                    Plotly.newPlot(                        \"4a1fffdb-8c3f-4a7c-83a7-22dd9132e04f\",                        [{\"alignmentgroup\":\"True\",\"bingroup\":\"x\",\"hovertemplate\":\"error=%{x}\\u003cbr\\u003ecount=%{y}\\u003cextra\\u003e\\u003c\\u002fextra\\u003e\",\"legendgroup\":\"\",\"marker\":{\"color\":\"#636efa\",\"pattern\":{\"shape\":\"\"}},\"name\":\"\",\"nbinsx\":50,\"offsetgroup\":\"\",\"orientation\":\"v\",\"showlegend\":false,\"x\":[-18.845863059346087,-15.432435282721883,4.888494217862743,11.19617433289011,-1.4088624691120373,17.68439365562851,-3.231677141847811,1.4760258629866883,4.660365018682427,15.94703067266795,-5.136001065697172,5.327008396619121,11.699168357102877,28.722622132816497,0.2751490505063572,-17.722515966697443,-16.6125921454787,4.570962565862715,6.022120603617807,-4.687742560750237,9.983854391882915,-3.0179189981946593,-7.660802783846904,-12.269332238843077,1.001540764799529,2.0367375017696645,8.779825867565606,8.268803540398608,2.264788919015274,-3.6736550681617786,-9.135846262332493,8.031789506803449,-14.92688568959521,2.7112360104256936,0.2136729434843545,7.472116791478243,24.242402602729413,-8.8404539636105,-7.3684389709243305,2.813275571182132,-0.6699071722487204,-5.159392177040999,15.625458568865426,5.290526773462943,-7.94264679621827,12.542894231692486,-2.935579321666296,13.565818046234043,-4.664299824335259,0.35641482297483407,16.151318159055094,-11.647393544571713,7.345915767980493,8.102524370143811,-2.0056919723094353,-11.48637349428715,10.158218189783966,-0.6167984984797101,-4.2881650033057355,-6.931056072631435,-1.764415552772249,3.670278390833218,8.275902206487203,-0.8614388304637544,10.721390119856068,29.21350483494607,-4.365598041576675,-9.039348410861948,23.62932435541839,10.097307047099378,-6.191542610051982,-20.574954697116993,-0.20793707675407802,7.280029412291341,1.8289644110484033,-13.748764191481854,6.45964179124536,7.99192006650253,4.827435221820323,9.533286082587125,-1.2267031599479594,-16.246784584695604,-3.2307927311602924,2.523535021262873,2.9181126891554356,15.631908086966575,-8.83109777147159,0.7783719701280205,1.8047991359062507,-31.931075678448607,-2.9875290836568666,7.517910500951842,4.263575962055427,-11.484457091967556,-1.1327041053776412,14.382779783173675,-9.192289345752044,6.681440855389937,-18.732977762175466,-10.80048065714648,4.473218956587516,-12.810163617351122,-0.6785551052740288,-8.527736751222193,-4.847328172944742,8.463566549908734,6.435498323174613,-10.299608175811613,3.3477533210654116,4.03648463241997,9.55122579349353,-4.235990655934614,-20.625249192431454,10.67532914254273,-0.24219456672757644,-14.122205554154277,0.7964139124571545,-4.523717962497344,10.623935281468789,-4.283070972076487,1.8714426500454877,-9.857299956798627,-11.873860515647507,-25.895636420186136,-5.796331732135769,-3.257963165821664,-1.9438430157733535,3.5316629281068828,-3.38483843461691,2.9540141013902996,-1.684609762696141,-13.17597535607959,10.065425652796407,-11.39878561129045,-13.171150673398657,1.1806852699107822,21.21854899008595,6.078219870944324,-12.96994546561109,0.22868062298881853,9.993022322949102,5.04774921228217,-8.406200265045527,-5.467335682013797,2.3893209916969482,3.6682441181468732,3.9175814904382236,9.224101844985029,-16.153756894694425,3.2232046921133986,-12.171585208254967,-15.213160519224516,-9.983108981479603,4.316203127180486,-4.037300903366102,0.24195606390915714,9.037018607301277,-3.243592817216026,11.79039791159802,-11.876793884615637,4.646172972983933,-2.0115965587283995,-2.832878715461419,2.5890497370407672,-5.866938014752748,4.749036566225243,-8.712972974572438,13.45979680246748,-1.2637957954641195,-19.389289990582853,10.00331324605574,6.7774497052485145,-5.13907849658915,-1.7958178193959782,-3.5063009927355893,-4.891871301476641,-6.3472146856177005,-11.096998419562226,-4.098186569285133,2.41257654618542,-6.7257370120273094,-18.998819348952168,1.3263374638257375,9.745293046706422,-11.070806692869724,1.203811639535985,21.726695460140363,-8.474216771504217,5.353281859539223,0.9053328230416042,-3.3198033056901437,-1.904996797790659,-7.094518171390391,4.354863705698435,-5.131057981760833,2.5954667758391707,-7.388104808875028,-6.153674840130535,9.354387020445955,-10.859821161750318,5.359634451140479,-8.080577982811448,-3.6728731340134004,-18.381836767951228,2.2346598237185162,3.4931679611819817,0.19419605887732416,3.0317978283427536,-7.999419019420486,16.16310608436588,10.536824191463538,10.678029215791923,-9.50307591973575,-17.106133725819262,1.0444921853747147,1.6882172319001114,-0.7005216311318208,-11.6187830260819,9.273531341905738,-2.383689827347851,-9.7519762978243,-5.010941699398458,-1.8958161659874406,-10.01046092567141,27.032322929992375,-6.778753195309079,6.540756831274237,18.30632896856457,-5.112025995249809,-13.736585451629566,1.3744851462769248,-9.528745472029385,-16.122782579886447,-13.149144535840477,-16.39964529371393,-7.421274910718921,-0.7543363890159185,16.01965811897169,2.4606248812994806,8.432465953161923,-21.70942717497813,1.7588581243233534,-1.2320480678448575,-5.514853760404662,-0.43602446372453585,-16.950510404307522,6.2264936173445165,-1.9460745523724228,7.424705856980481,13.200225112207058,6.117690909052854,0.37036797048412495,4.293022245172594,6.924209798738559,14.063174636718344,0.831055726286948,15.047203740310025,-7.600559636896023,-0.8243975293450347,14.57551499464931,3.092090770498629,7.521564055905827,-3.19174510419181,-13.40450446023145,18.751724696457444,-1.1502607914741674,1.601327955666406,-6.713400764504655,-2.1319662823768937,7.519693317388189,3.1905393566661786,7.960258568034888,-10.760071385985981,-0.21311648671942862,-19.01190685753008,0.6066081381462141,7.084067669104627,15.137143926128275,18.031396762559453,15.841359430054894,-2.671266510114833,-5.08725023229934,15.811907020321328,-8.950383140761147,4.830610516834398,-1.4679301198554953,-16.12220628255423,-8.968393158655317,2.685306479058326,8.91192225415287,21.518154013293056,7.1915331924242025,2.1113023882769397,9.871795271511843,1.3125696709230539,-0.7685188295876912,2.2485598180807926,6.5000258082345965,-1.6865467196672768,-4.419406495694091,10.903990774428465,-14.109323797462707,0.9858813228426158,-0.1884962294484751,-7.082144232565568,-2.332161312635023,-9.531366339132447,-2.8712416520182416,6.124373746404373,-3.61503525206102,11.437262073206625,-1.0855970577652272,0.3322999064446037,2.081168572725403,1.2853751143893106,18.8184904549764,5.487249077409615,-0.9284490114111463,-1.5985639199739978,10.276751409259589,-12.65707840864701,8.661748482145015,-9.69457200526736,-4.271943618716847,6.4622730984380325,-17.753108926095123,11.9363683175648,-9.191541736100021,-10.005823180429786,6.706202090766453,-13.92465300064329,2.500465145989523,-2.8869362927985662,-2.6032183877122037,1.3430874147054794,-8.108082731597818,-7.934887205522131,17.48531973238181,-13.04340242878152,16.624919880356742,-10.325462043416579,-11.26705136827583,10.909664302151981,4.108142879545852,11.057046684859358,2.1492103028873544,3.0803428418574157,-7.796605322693395,-13.103087461196083,-13.956838107899557,5.621680265783027,2.092218737445279,16.834381922209502,8.05870066496189,-9.648516330974587,-16.155828235482318,12.343488718799222,5.9246425915289365,0.2640575695892693,-2.8016115881960673,8.096035199216459,-4.240610444640893,4.7383934707091555,0.1445227087827874,-5.462842480036997,-0.06422269810937564,4.363858905265687,1.0960980392583082,0.883629592053353,3.700110298821272,2.58796062667102,-15.986471705047165,-5.6091944794123805,2.9548031802916057,-6.969544045107355,3.3381948975601006,-11.73124637586642,-3.696421921980928,1.0730214400422824,-4.477169258102776,15.708761520684995,11.267674689098058,11.939250063990556,-1.4294309476370586,-17.325149994850918,-22.31300146192632,-6.380511014407574,-5.008444749444578,18.010577341527394,5.4267379973402115,7.877837519082391,6.20847598251116,1.6814381858478953,4.7209057769712786,19.79299810375788,-7.479102561175338,10.727430257398069,-2.392468641111492,-20.740826697499728,9.19384591586423,25.302875227463296,2.8600422188011123,-11.009596349985713,-19.583474542205934,12.295495944524163,-4.9669922323652145,4.65310456780054,1.0594835430413596,-26.443433470170348,15.029703283951534,-2.5373966149457345,-4.676931717654327,-10.857863249393475,-0.9798315347089499,-3.0805053950410297,3.9164856742179097,-2.691269412451078,3.43192275497411,-6.21571889856051,3.6961033604363394,-3.771003939021867,0.2926281368497854,-11.260502507721682,0.5139372358848675,17.73032468206881,-12.619215007139914,9.057323008626184,6.537663386488191,5.956612940434923,-13.744380931708179,21.35674213978696,-31.377485336599932,-10.56056809066051,-2.2323891412915913,0.5489400061628658,-2.8555407485765727,-5.211224283793385,-6.452155859500564,-5.5560446600344875,-0.895806812552479,1.973384203073266,1.5127328365351218,1.9490828035268066,-11.337700968670646,-5.935567222808615,29.403886346642807,-6.559007765297608,-1.9473619471877441,0.18708756445897734,3.885184530888857,-11.24112719986013,-9.475264621228582,7.728776678236088,-4.070522871245345,9.716567345412855,13.796181647889298,6.267172245899644,-8.623934723827588,-9.531250453760862,-5.130854200972934,-7.250957868479958,-5.161782871149583,6.414815952229517,-4.319225446739409,-8.004095252276826,-7.542913298135737,-11.889133714746436,-7.083038472010642,-3.5144820754158275,-10.701502383164268,0.2652125924905988,8.818746512277173,1.6306696394376416,7.449026448064487,6.7517827497438105,1.4451867071551732,7.924199209999614,3.0796152963904007,18.936146669537848,-2.13293707372938,-0.012054753622237513,8.170886310681908,-6.592456684324048,-9.375701376265582,16.075598643689744,7.627247785662149,7.691423497872989,9.399031011088653,-8.294748419317472,1.9382613877280335,2.6451484131061136,20.038623644067528,-6.35418030209226,12.392583948534721,-0.599326302663286,-2.773769379581921,-13.606585958386518,13.088203991191108,30.195121558208257,-1.8384954475369426,-18.005111815108535,-12.389463529394376,-2.0965941527462633,4.916361856320478,-8.071225966373106,9.735461997044688,-4.763577693562198,-5.054701591666273,-10.6020990749888,-27.596600389110762,-3.9241596717876774,5.089636257074986,0.25574312191994863,17.69075904889118,6.947131310890583,4.092824381131038,5.240883979345924,-1.5235487203372173,8.224199323822006,-11.210306673244702,-0.0020706491819737494,0.0930032113861472,3.278947165129182,-1.5519068385897867,-8.250982646676349,8.671302157109011,6.581164890752561,3.0372602877666424,13.458709234732154,8.192578597214975,4.762208735446592,-8.743891807127284,-2.6256132900192455,-1.9358991136754469,-8.508979621679714,1.3737178839939688,-3.9046484992888963,1.0322175293249671,-2.653623493996278,5.82758657611582,24.388171582764286,1.342791621863043,-14.227481360999406,-9.262154022415928,-9.653974845911705,-12.36130721806218,-0.886575909614379,-1.9731570740559619,6.176518954343507,3.160728560270499,-6.157711497711418,-12.038844371688157,1.394462756809986,4.501892648514115,-0.005279588565969107,-6.012067489291141,14.438548161335419,22.96180953137238,5.505368494915842,12.20712425914158,5.081401976473103,1.4778031881747182,4.5324840902301275,-14.524675344707461,-3.2674476460232,-3.004743596108284,-6.222071440434021,11.388331177807686,-10.391117874202692,0.7576428653545975,-6.70480617241212,10.718572330401557,15.53758766016064,-8.178896580250282,-3.764095260975168,9.020515543575108,8.696630812746946,-11.254347844147688,11.89411892867328,-16.426729532559634,9.00620734647869,-6.3839192560838285,3.286184757489849,-6.03187431082344,5.441140021141919,1.6279290607229484,-0.4091917539572165,10.021874557814726,-7.408243454201255,5.132135664715847,2.2859991534001836,9.943493746085124,25.623336587953105,1.9102776260016867,-24.12615421612915,-7.846042878980228,0.19260379734394917,2.62890829208267,-0.22465892812047628,-5.471191151752095,11.808128153088447,-11.143216946688725,-7.153813154412447,-7.1818572570793435,-4.38475738809727,-0.19616657693990192,-6.728612359668205,-5.918141337413786,3.540407109410239,5.736017728969017,-1.0185629526198738,-15.490201514951877,12.391070756539008,14.675252657524396,-1.647608412365173,-0.5088770185601845,-1.733416643704075,-2.439531979085004,2.2320225463480483,-14.898634386020817,16.009039784765157,8.284970247802462,1.032547601490478,16.431888111541667,1.7585440443207148,-16.614701657280186,-0.2088648829596167,-2.307009057186832,12.601647651725798,6.16361408039478,3.751963803239363,3.1771509675623406,-12.816437950037681,-5.57691060725125,11.11457956937032,-2.465047784320035,-4.9822174849678476,-11.401490385212668,-15.805406865683736,10.150941918278676,8.108575112103381,12.575778589146168,2.3401985910698073,-4.663583744463338,-9.873345165891024,0.7595102364252284,3.1984752325484322,-1.5175799224873998,8.35142901630023,-20.89538721694774,16.076610271180584,-1.8474057889572464,-20.2360621922964,-0.06799844559998292,1.9003903500149448,3.5744542281042726,1.803916817624085,-13.728484746765304,22.11861911329507,-15.33433701296326,14.239571524501457,2.666523292344152,4.292444202986616,-5.885532697707191,15.981243518837474,-4.621726660819434,-20.243096232868524,13.631740045928098,-1.8970616761039594,6.619821777966095,-4.2588720619303615,-0.19147777415751932,6.414869090443091,-4.878722848710737,-18.043481097867428,1.9090379172729826,-7.197579421481819,12.93272957871163,9.564363768180087,-4.72406277880377,-14.84116028535965,-3.5561334878565987,3.130580305231547,0.007085945766448276,12.504077339697176,-6.045153263553672,-8.823330623234085,4.520903328330803,4.700421477595015,-2.658782296520485,4.367197360405953,0.6613261462582187,-20.99721789166516,2.4702570074599635,3.5834015202122202,6.475418056351586,-7.441919714999372,1.812241732181036,6.493730383214256,-13.213040322730123,-14.196030045136368,6.004235657387056,18.66539951360616,-10.075136898369209,6.84629825760004,-7.906255991627688,19.701038177118363,-8.925973382993106,12.111719292807805,-7.307641190665237,-0.1427306783643303,9.539394193966444,4.070363129267804,-6.863184569567011,-1.058944531152349,-5.844129804724844,-19.764405845154855,15.642416117110514,-16.17212574968623,-1.0435593752321353,8.987840483231281,13.303136257389895,1.8912039077703326,-9.216501119244597,1.2754912037753456,-15.111549302473477,14.511756900515593,0.12088947846054054,12.523934444131186,-3.6363188262496777,-8.868873900973,4.207617936810536,26.04213856627134,-1.98948146796495,-4.367385517335094,-4.042947549616983,-12.357821918221546,10.710536796490487,-6.802161054504495,-11.925075124779752,17.785875840065174,-3.196518259189773,5.0417983100767145,0.8152267310164518,-3.4767648353833636,4.8722856411355195,6.757080791616119,-0.34152417488024867,10.87245938862803,10.85825128885186,-6.7937328295650445,11.487940351586559,-6.663125009092113,-4.625912928539506,17.25806728790596,6.775646523356556,-11.941094030473721,9.81165531139682,4.644042623093881,-4.620608932518962,-7.833905092825958,2.5153888604449577,5.975101946916411,-14.223698616985082,-17.388996637975794,-9.788580507817954,-0.8531814256502344,8.08265721640926,8.304444065565647,-5.225141052657577,-4.183982208886832,-14.015985929464293,-6.504500925361384,15.030803017598174,-10.51947617722918,9.980606273144133,3.8397127195235186,-2.502002062516951,-19.956674897839648,-31.099185560053613,-6.0672305913618345,1.831966187203875,-5.345056484805497,-8.876554258738366,3.206676255571921,-17.95211355912322,-2.3007075919140334,-4.977430890913936,-6.659242520544609,-4.21586610614456,-8.38940500469613,6.1725318654692245,5.5830175394603,11.001542329716955,-4.395012306202261,-7.789365035121136,-4.5777286615188615,-16.74492433347538,0.055960188290470114,-6.687416555925132,10.917008761393149,3.870997024744014,-6.955377575657778,-8.491021107431436,2.939669476641825,0.7159925185806628,15.178737466808101,3.5702920080660903,-8.90383163519786,-5.752050161065668,-5.00665721381209,-0.49773687180960735,-0.07063158628176325,6.603211394734473,-6.988284202025341,-4.209729443893892,-4.920188479927987,5.2603484266758045,21.53342919871244,-10.97152711753695,4.788374560084044,8.627757640431213,-6.934789119139936,3.9201263991912896,-10.59936384046621,-6.170059495766978,-6.835693232004772,13.659557112005345,-12.119439853864009,-2.6125053123385626,3.692771392462035,-1.4338846734225115,17.762352328983198,-4.086528114806711,10.293715081820721,13.526702858435343,15.223591862178907,-11.12688374989925,6.292633936927885,-15.337277099164993,5.358014630522973,17.07357957592947,11.165244399486596,-12.35811620006939,1.5589817793666754,5.482872964906022,-1.6001822585278802,-5.017827361675444,-11.173988159024617,-14.484992298929257,3.597686457890859,13.26047686082039,4.134651611232755,-2.602805065828875,9.637589262106104,9.571509148950426,-3.4378788154988627,0.4865235157045049,-0.32796995411587204,7.584953347000692,2.304007142057671,9.242331442683039,-8.90198411124787,-10.352493347237527,18.461878622380937,9.295108601924099,14.965292550900784,6.500239344068987,0.8343796979036142,14.496452196985302,9.218598131253131,10.039573720814985,-2.072673293989439,-0.6934433703625018,7.2173755333725325,-1.7682087213939752,5.466800845872655,2.716551103260528,-16.73452090298538,-13.404610517903478,12.995812369275974,-8.29732417879174,-8.113965544915914,11.48263288752618,-8.187776437548592,-15.379319184125535,11.225448062444144,9.175028210142642,-10.176614668435022,-2.7149531082564806,-5.514762752395228,-3.4058921640049675,-3.906959209281439,13.26472128311083,-10.473177066214475,-11.695899924277725,2.2939074406802717,0.4347694981386212,15.311075025557223,-5.14254756017835,-5.720574417141449,0.6219101699931144,-11.243533598705028,3.340772309799405,-5.646059258936006,10.196643386921153,0.2355215087423801,1.7435425790283574,-2.2530792204094183,3.6952692883335914,1.3147259567166714,-8.260471714415075,4.3676423723821785,16.065771007386786,-17.4958390420542,-13.814540786904871,12.922626951056188,-6.8970780524519455,5.029747705513429,-2.634872153310596,-2.9422412901349304,2.3440780031632187,7.837656655863967,6.905410523162587,9.161919154812423,8.318222082304445,0.6717829004935538,7.157599891107509,-6.820520657126195,-14.872461553359273,5.800532413700424,-2.3940450053537745,-4.996851103029343,-4.720022709192747,-0.7595526791608762,-7.426824183597219,-4.822489526806578,12.376624223272984,-8.691560643892728,-8.872908372667425,7.632861041785816,-0.3793783544760174,-6.833289928110688,2.093138195793614,-10.729780477660114,-23.638724946193605,7.859860326349818,13.81044603153775,-3.038185956048764,-7.215625051261441,2.3086637384476916,-14.53260663321035,13.386057997232484,-6.929186230316105,6.058608207588932,-17.193779062072963,-19.92515353168119,7.666565877833477,5.495571359085801,-8.595878869798014,3.871306497895148,0.45411217932237946,-0.2538842054241002,19.196731561976563,0.13837746094237957,6.8972777406417265,4.931228223997721,-14.436320034688137,12.565068942792564,-8.13205186747976,2.789629303318094,2.7976016849583374,-7.903718960517111,-3.4005129456889023,-5.706129972195313,-9.681846605328616,3.313083831833225,6.122367345077507,10.851505265577984,8.254105299789558,-29.49094425308725,-12.446795807367863,13.510743662080216,13.224579567435697,-4.818660617184918,-5.472647973779672,-5.488838353173648,2.5495579355369813,1.2545426000289979,-3.2787952415935706,-0.8589300629332968,22.193003727475343,2.297996305751937,8.514064342603149,-1.7521141890851197,-29.852590026034093,-3.67481665474304,3.1352968617239725,-9.218015019772523,-4.826878872092124],\"xaxis\":\"x\",\"yaxis\":\"y\",\"type\":\"histogram\"}],                        {\"template\":{\"data\":{\"histogram2dcontour\":[{\"type\":\"histogram2dcontour\",\"colorbar\":{\"outlinewidth\":0,\"ticks\":\"\"},\"colorscale\":[[0.0,\"#0d0887\"],[0.1111111111111111,\"#46039f\"],[0.2222222222222222,\"#7201a8\"],[0.3333333333333333,\"#9c179e\"],[0.4444444444444444,\"#bd3786\"],[0.5555555555555556,\"#d8576b\"],[0.6666666666666666,\"#ed7953\"],[0.7777777777777778,\"#fb9f3a\"],[0.8888888888888888,\"#fdca26\"],[1.0,\"#f0f921\"]]}],\"choropleth\":[{\"type\":\"choropleth\",\"colorbar\":{\"outlinewidth\":0,\"ticks\":\"\"}}],\"histogram2d\":[{\"type\":\"histogram2d\",\"colorbar\":{\"outlinewidth\":0,\"ticks\":\"\"},\"colorscale\":[[0.0,\"#0d0887\"],[0.1111111111111111,\"#46039f\"],[0.2222222222222222,\"#7201a8\"],[0.3333333333333333,\"#9c179e\"],[0.4444444444444444,\"#bd3786\"],[0.5555555555555556,\"#d8576b\"],[0.6666666666666666,\"#ed7953\"],[0.7777777777777778,\"#fb9f3a\"],[0.8888888888888888,\"#fdca26\"],[1.0,\"#f0f921\"]]}],\"heatmap\":[{\"type\":\"heatmap\",\"colorbar\":{\"outlinewidth\":0,\"ticks\":\"\"},\"colorscale\":[[0.0,\"#0d0887\"],[0.1111111111111111,\"#46039f\"],[0.2222222222222222,\"#7201a8\"],[0.3333333333333333,\"#9c179e\"],[0.4444444444444444,\"#bd3786\"],[0.5555555555555556,\"#d8576b\"],[0.6666666666666666,\"#ed7953\"],[0.7777777777777778,\"#fb9f3a\"],[0.8888888888888888,\"#fdca26\"],[1.0,\"#f0f921\"]]}],\"heatmapgl\":[{\"type\":\"heatmapgl\",\"colorbar\":{\"outlinewidth\":0,\"ticks\":\"\"},\"colorscale\":[[0.0,\"#0d0887\"],[0.1111111111111111,\"#46039f\"],[0.2222222222222222,\"#7201a8\"],[0.3333333333333333,\"#9c179e\"],[0.4444444444444444,\"#bd3786\"],[0.5555555555555556,\"#d8576b\"],[0.6666666666666666,\"#ed7953\"],[0.7777777777777778,\"#fb9f3a\"],[0.8888888888888888,\"#fdca26\"],[1.0,\"#f0f921\"]]}],\"contourcarpet\":[{\"type\":\"contourcarpet\",\"colorbar\":{\"outlinewidth\":0,\"ticks\":\"\"}}],\"contour\":[{\"type\":\"contour\",\"colorbar\":{\"outlinewidth\":0,\"ticks\":\"\"},\"colorscale\":[[0.0,\"#0d0887\"],[0.1111111111111111,\"#46039f\"],[0.2222222222222222,\"#7201a8\"],[0.3333333333333333,\"#9c179e\"],[0.4444444444444444,\"#bd3786\"],[0.5555555555555556,\"#d8576b\"],[0.6666666666666666,\"#ed7953\"],[0.7777777777777778,\"#fb9f3a\"],[0.8888888888888888,\"#fdca26\"],[1.0,\"#f0f921\"]]}],\"surface\":[{\"type\":\"surface\",\"colorbar\":{\"outlinewidth\":0,\"ticks\":\"\"},\"colorscale\":[[0.0,\"#0d0887\"],[0.1111111111111111,\"#46039f\"],[0.2222222222222222,\"#7201a8\"],[0.3333333333333333,\"#9c179e\"],[0.4444444444444444,\"#bd3786\"],[0.5555555555555556,\"#d8576b\"],[0.6666666666666666,\"#ed7953\"],[0.7777777777777778,\"#fb9f3a\"],[0.8888888888888888,\"#fdca26\"],[1.0,\"#f0f921\"]]}],\"mesh3d\":[{\"type\":\"mesh3d\",\"colorbar\":{\"outlinewidth\":0,\"ticks\":\"\"}}],\"scatter\":[{\"fillpattern\":{\"fillmode\":\"overlay\",\"size\":10,\"solidity\":0.2},\"type\":\"scatter\"}],\"parcoords\":[{\"type\":\"parcoords\",\"line\":{\"colorbar\":{\"outlinewidth\":0,\"ticks\":\"\"}}}],\"scatterpolargl\":[{\"type\":\"scatterpolargl\",\"marker\":{\"colorbar\":{\"outlinewidth\":0,\"ticks\":\"\"}}}],\"bar\":[{\"error_x\":{\"color\":\"#2a3f5f\"},\"error_y\":{\"color\":\"#2a3f5f\"},\"marker\":{\"line\":{\"color\":\"#E5ECF6\",\"width\":0.5},\"pattern\":{\"fillmode\":\"overlay\",\"size\":10,\"solidity\":0.2}},\"type\":\"bar\"}],\"scattergeo\":[{\"type\":\"scattergeo\",\"marker\":{\"colorbar\":{\"outlinewidth\":0,\"ticks\":\"\"}}}],\"scatterpolar\":[{\"type\":\"scatterpolar\",\"marker\":{\"colorbar\":{\"outlinewidth\":0,\"ticks\":\"\"}}}],\"histogram\":[{\"marker\":{\"pattern\":{\"fillmode\":\"overlay\",\"size\":10,\"solidity\":0.2}},\"type\":\"histogram\"}],\"scattergl\":[{\"type\":\"scattergl\",\"marker\":{\"colorbar\":{\"outlinewidth\":0,\"ticks\":\"\"}}}],\"scatter3d\":[{\"type\":\"scatter3d\",\"line\":{\"colorbar\":{\"outlinewidth\":0,\"ticks\":\"\"}},\"marker\":{\"colorbar\":{\"outlinewidth\":0,\"ticks\":\"\"}}}],\"scattermapbox\":[{\"type\":\"scattermapbox\",\"marker\":{\"colorbar\":{\"outlinewidth\":0,\"ticks\":\"\"}}}],\"scatterternary\":[{\"type\":\"scatterternary\",\"marker\":{\"colorbar\":{\"outlinewidth\":0,\"ticks\":\"\"}}}],\"scattercarpet\":[{\"type\":\"scattercarpet\",\"marker\":{\"colorbar\":{\"outlinewidth\":0,\"ticks\":\"\"}}}],\"carpet\":[{\"aaxis\":{\"endlinecolor\":\"#2a3f5f\",\"gridcolor\":\"white\",\"linecolor\":\"white\",\"minorgridcolor\":\"white\",\"startlinecolor\":\"#2a3f5f\"},\"baxis\":{\"endlinecolor\":\"#2a3f5f\",\"gridcolor\":\"white\",\"linecolor\":\"white\",\"minorgridcolor\":\"white\",\"startlinecolor\":\"#2a3f5f\"},\"type\":\"carpet\"}],\"table\":[{\"cells\":{\"fill\":{\"color\":\"#EBF0F8\"},\"line\":{\"color\":\"white\"}},\"header\":{\"fill\":{\"color\":\"#C8D4E3\"},\"line\":{\"color\":\"white\"}},\"type\":\"table\"}],\"barpolar\":[{\"marker\":{\"line\":{\"color\":\"#E5ECF6\",\"width\":0.5},\"pattern\":{\"fillmode\":\"overlay\",\"size\":10,\"solidity\":0.2}},\"type\":\"barpolar\"}],\"pie\":[{\"automargin\":true,\"type\":\"pie\"}]},\"layout\":{\"autotypenumbers\":\"strict\",\"colorway\":[\"#636efa\",\"#EF553B\",\"#00cc96\",\"#ab63fa\",\"#FFA15A\",\"#19d3f3\",\"#FF6692\",\"#B6E880\",\"#FF97FF\",\"#FECB52\"],\"font\":{\"color\":\"#2a3f5f\"},\"hovermode\":\"closest\",\"hoverlabel\":{\"align\":\"left\"},\"paper_bgcolor\":\"white\",\"plot_bgcolor\":\"#E5ECF6\",\"polar\":{\"bgcolor\":\"#E5ECF6\",\"angularaxis\":{\"gridcolor\":\"white\",\"linecolor\":\"white\",\"ticks\":\"\"},\"radialaxis\":{\"gridcolor\":\"white\",\"linecolor\":\"white\",\"ticks\":\"\"}},\"ternary\":{\"bgcolor\":\"#E5ECF6\",\"aaxis\":{\"gridcolor\":\"white\",\"linecolor\":\"white\",\"ticks\":\"\"},\"baxis\":{\"gridcolor\":\"white\",\"linecolor\":\"white\",\"ticks\":\"\"},\"caxis\":{\"gridcolor\":\"white\",\"linecolor\":\"white\",\"ticks\":\"\"}},\"coloraxis\":{\"colorbar\":{\"outlinewidth\":0,\"ticks\":\"\"}},\"colorscale\":{\"sequential\":[[0.0,\"#0d0887\"],[0.1111111111111111,\"#46039f\"],[0.2222222222222222,\"#7201a8\"],[0.3333333333333333,\"#9c179e\"],[0.4444444444444444,\"#bd3786\"],[0.5555555555555556,\"#d8576b\"],[0.6666666666666666,\"#ed7953\"],[0.7777777777777778,\"#fb9f3a\"],[0.8888888888888888,\"#fdca26\"],[1.0,\"#f0f921\"]],\"sequentialminus\":[[0.0,\"#0d0887\"],[0.1111111111111111,\"#46039f\"],[0.2222222222222222,\"#7201a8\"],[0.3333333333333333,\"#9c179e\"],[0.4444444444444444,\"#bd3786\"],[0.5555555555555556,\"#d8576b\"],[0.6666666666666666,\"#ed7953\"],[0.7777777777777778,\"#fb9f3a\"],[0.8888888888888888,\"#fdca26\"],[1.0,\"#f0f921\"]],\"diverging\":[[0,\"#8e0152\"],[0.1,\"#c51b7d\"],[0.2,\"#de77ae\"],[0.3,\"#f1b6da\"],[0.4,\"#fde0ef\"],[0.5,\"#f7f7f7\"],[0.6,\"#e6f5d0\"],[0.7,\"#b8e186\"],[0.8,\"#7fbc41\"],[0.9,\"#4d9221\"],[1,\"#276419\"]]},\"xaxis\":{\"gridcolor\":\"white\",\"linecolor\":\"white\",\"ticks\":\"\",\"title\":{\"standoff\":15},\"zerolinecolor\":\"white\",\"automargin\":true,\"zerolinewidth\":2},\"yaxis\":{\"gridcolor\":\"white\",\"linecolor\":\"white\",\"ticks\":\"\",\"title\":{\"standoff\":15},\"zerolinecolor\":\"white\",\"automargin\":true,\"zerolinewidth\":2},\"scene\":{\"xaxis\":{\"backgroundcolor\":\"#E5ECF6\",\"gridcolor\":\"white\",\"linecolor\":\"white\",\"showbackground\":true,\"ticks\":\"\",\"zerolinecolor\":\"white\",\"gridwidth\":2},\"yaxis\":{\"backgroundcolor\":\"#E5ECF6\",\"gridcolor\":\"white\",\"linecolor\":\"white\",\"showbackground\":true,\"ticks\":\"\",\"zerolinecolor\":\"white\",\"gridwidth\":2},\"zaxis\":{\"backgroundcolor\":\"#E5ECF6\",\"gridcolor\":\"white\",\"linecolor\":\"white\",\"showbackground\":true,\"ticks\":\"\",\"zerolinecolor\":\"white\",\"gridwidth\":2}},\"shapedefaults\":{\"line\":{\"color\":\"#2a3f5f\"}},\"annotationdefaults\":{\"arrowcolor\":\"#2a3f5f\",\"arrowhead\":0,\"arrowwidth\":1},\"geo\":{\"bgcolor\":\"white\",\"landcolor\":\"#E5ECF6\",\"subunitcolor\":\"white\",\"showland\":true,\"showlakes\":true,\"lakecolor\":\"white\"},\"title\":{\"x\":0.05},\"mapbox\":{\"style\":\"light\"}}},\"xaxis\":{\"anchor\":\"y\",\"domain\":[0.0,1.0],\"title\":{\"text\":\"error\"}},\"yaxis\":{\"anchor\":\"x\",\"domain\":[0.0,1.0],\"title\":{\"text\":\"count\"}},\"legend\":{\"tracegroupgap\":0},\"margin\":{\"t\":60},\"barmode\":\"relative\",\"width\":800},                        {\"responsive\": true}                    ).then(function(){\n",
              "                            \n",
              "var gd = document.getElementById('4a1fffdb-8c3f-4a7c-83a7-22dd9132e04f');\n",
              "var x = new MutationObserver(function (mutations, observer) {{\n",
              "        var display = window.getComputedStyle(gd).display;\n",
              "        if (!display || display === 'none') {{\n",
              "            console.log([gd, 'removed!']);\n",
              "            Plotly.purge(gd);\n",
              "            observer.disconnect();\n",
              "        }}\n",
              "}});\n",
              "\n",
              "// Listen for the removal of the full notebook cells\n",
              "var notebookContainer = gd.closest('#notebook-container');\n",
              "if (notebookContainer) {{\n",
              "    x.observe(notebookContainer, {childList: true});\n",
              "}}\n",
              "\n",
              "// Listen for the clearing of the current output cell\n",
              "var outputEl = gd.closest('.output');\n",
              "if (outputEl) {{\n",
              "    x.observe(outputEl, {childList: true});\n",
              "}}\n",
              "\n",
              "                        })                };                            </script>        </div>\n",
              "</body>\n",
              "</html>"
            ]
          },
          "metadata": {}
        }
      ]
    },
    {
      "cell_type": "markdown",
      "source": [
        "### <a name='a3'></a>  Mean Absolute Error - MAE - Średni błąd bezwzględny\n",
        "### $$MAE = \\frac{1}{n}\\sum_{i=1}^{n}|y_{true} - y_{pred}|$$"
      ],
      "metadata": {
        "id": "lu_zOoX9dTZx"
      }
    },
    {
      "cell_type": "code",
      "source": [
        "def mean_absolute_error(y_true, y_pred):\n",
        "  return abs(y_true - y_pred).sum() / len(y_true)\n",
        "\n",
        "mean_absolute_error(y_true, y_pred)"
      ],
      "metadata": {
        "colab": {
          "base_uri": "https://localhost:8080/"
        },
        "id": "CBeSe_ggicOy",
        "outputId": "da4e6b9b-b7f2-495d-e002-8757f47cae52"
      },
      "execution_count": 22,
      "outputs": [
        {
          "output_type": "execute_result",
          "data": {
            "text/plain": [
              "7.755456919872209"
            ]
          },
          "metadata": {},
          "execution_count": 22
        }
      ]
    },
    {
      "cell_type": "code",
      "source": [
        "from sklearn.metrics import mean_absolute_error\n",
        "\n",
        "mean_absolute_error(y_true, y_pred)"
      ],
      "metadata": {
        "colab": {
          "base_uri": "https://localhost:8080/"
        },
        "id": "e38lNDtejGPP",
        "outputId": "753a61db-f6e8-4d07-a8c1-eb3afb9bcbab"
      },
      "execution_count": 23,
      "outputs": [
        {
          "output_type": "execute_result",
          "data": {
            "text/plain": [
              "7.755456919872209"
            ]
          },
          "metadata": {},
          "execution_count": 23
        }
      ]
    },
    {
      "cell_type": "markdown",
      "source": [
        "### <a name='a4'></a>  Mean Squared Error - MSE - Błąd średniokwadratowy\n",
        "### $$MSE = \\frac{1}{n}\\sum_{i=1}^{n}(y_{true} - y_{pred})^{2}$$"
      ],
      "metadata": {
        "id": "Xh9knpOidT9N"
      }
    },
    {
      "cell_type": "code",
      "source": [
        "def mean_squared_error(y_true, y_pred):\n",
        "  return ((y_true - y_pred) ** 2).sum() / len(y_true)\n",
        "\n",
        "mean_squared_error(y_true, y_pred)"
      ],
      "metadata": {
        "colab": {
          "base_uri": "https://localhost:8080/"
        },
        "id": "JaDaBeTljccr",
        "outputId": "bf19d4ae-00be-4c83-f535-8e9cce6be7b9"
      },
      "execution_count": 27,
      "outputs": [
        {
          "output_type": "execute_result",
          "data": {
            "text/plain": [
              "95.56588322626148"
            ]
          },
          "metadata": {},
          "execution_count": 27
        }
      ]
    },
    {
      "cell_type": "code",
      "source": [
        "from sklearn.metrics import mean_squared_error\n",
        "\n",
        "mean_squared_error(y_true, y_pred)"
      ],
      "metadata": {
        "colab": {
          "base_uri": "https://localhost:8080/"
        },
        "id": "bTJa5wMUj_wZ",
        "outputId": "a83d5193-0660-43e9-9930-26c44191a5e7"
      },
      "execution_count": 28,
      "outputs": [
        {
          "output_type": "execute_result",
          "data": {
            "text/plain": [
              "95.56588322626148"
            ]
          },
          "metadata": {},
          "execution_count": 28
        }
      ]
    },
    {
      "cell_type": "markdown",
      "source": [
        "### <a name='a5'></a>  Root Mean Squared Error - RMSE - Pierwiastek błędu średniokwadratowego\n",
        "### $$RMSE = \\sqrt{MSE}$$"
      ],
      "metadata": {
        "id": "-M0clRvddUTU"
      }
    },
    {
      "cell_type": "code",
      "source": [
        "def root_mean_squared_error(y_true, y_pred):\n",
        "  return np.sqrt(((y_true - y_pred) ** 2).sum() / len(y_true))\n",
        "\n",
        "root_mean_squared_error(y_true, y_pred)"
      ],
      "metadata": {
        "colab": {
          "base_uri": "https://localhost:8080/"
        },
        "id": "DSQ2Tax3knyg",
        "outputId": "4f2c1e43-09f1-4538-d848-5cbacadcfeb4"
      },
      "execution_count": 30,
      "outputs": [
        {
          "output_type": "execute_result",
          "data": {
            "text/plain": [
              "9.775780440776147"
            ]
          },
          "metadata": {},
          "execution_count": 30
        }
      ]
    },
    {
      "cell_type": "code",
      "source": [
        "from sklearn.metrics import root_mean_squared_error\n",
        "\n",
        "root_mean_squared_error(y_true, y_pred)"
      ],
      "metadata": {
        "colab": {
          "base_uri": "https://localhost:8080/"
        },
        "id": "5LFySAXxlALW",
        "outputId": "184bd28c-9bc6-4dc3-801f-5182f9fed82d"
      },
      "execution_count": 31,
      "outputs": [
        {
          "output_type": "execute_result",
          "data": {
            "text/plain": [
              "9.775780440776147"
            ]
          },
          "metadata": {},
          "execution_count": 31
        }
      ]
    },
    {
      "cell_type": "markdown",
      "source": [
        "### <a name='a6'></a>  Max Error - Błąd maksymalny\n",
        "$$ME = max(|y\\_true - y\\_pred|)$$"
      ],
      "metadata": {
        "id": "yobP57V4dUzc"
      }
    },
    {
      "cell_type": "code",
      "source": [
        "def max_error(y_true, y_pred):\n",
        "  return max(abs(y_true - y_pred))\n",
        "\n",
        "max_error(y_true, y_pred)"
      ],
      "metadata": {
        "colab": {
          "base_uri": "https://localhost:8080/"
        },
        "id": "k0PV4mFwlKeD",
        "outputId": "03338bec-4e9b-4738-b885-92f176c833b0"
      },
      "execution_count": 33,
      "outputs": [
        {
          "output_type": "execute_result",
          "data": {
            "text/plain": [
              "31.931075678448607"
            ]
          },
          "metadata": {},
          "execution_count": 33
        }
      ]
    },
    {
      "cell_type": "code",
      "source": [
        "from sklearn.metrics import max_error\n",
        "\n",
        "max_error(y_true, y_pred)"
      ],
      "metadata": {
        "colab": {
          "base_uri": "https://localhost:8080/"
        },
        "id": "BwFbeqlplzoX",
        "outputId": "a449e475-7a51-4aeb-af8d-9cd2f3fa878f"
      },
      "execution_count": 34,
      "outputs": [
        {
          "output_type": "execute_result",
          "data": {
            "text/plain": [
              "31.931075678448607"
            ]
          },
          "metadata": {},
          "execution_count": 34
        }
      ]
    },
    {
      "cell_type": "markdown",
      "source": [
        "### <a name='a7'></a>  R2 score - współczynnik determinacji\n",
        "### $$R2\\_score = 1 - \\frac{\\sum_{i=1}^{N}(y_{true} - y_{pred})^{2}}{\\sum_{i=1}^{N}(y_{true} - \\overline{y_{true}})^{2}}$$"
      ],
      "metadata": {
        "id": "-MD20NQqdVHL"
      }
    },
    {
      "cell_type": "code",
      "source": [
        "def r2_score(y_true, y_pred):\n",
        "  numerator = ((y_true - y_pred) ** 2).sum()\n",
        "  denominator = ((y_true - y_true.mean()) ** 2).sum()\n",
        "  try:\n",
        "      r2 = 1 - numerator / denominator\n",
        "  except ZeroDivisionError:\n",
        "      print('Dzielenie przez zero')\n",
        "  return r2\n",
        "\n",
        "r2_score(y_true, y_pred)"
      ],
      "metadata": {
        "colab": {
          "base_uri": "https://localhost:8080/"
        },
        "id": "-QCFwn-HmERx",
        "outputId": "c3a79089-9f9a-45be-c352-7d2dd031b760"
      },
      "execution_count": 38,
      "outputs": [
        {
          "output_type": "execute_result",
          "data": {
            "text/plain": [
              "0.7582801303266378"
            ]
          },
          "metadata": {},
          "execution_count": 38
        }
      ]
    },
    {
      "cell_type": "code",
      "source": [
        "from sklearn.metrics import r2_score\n",
        "\n",
        "r2_score(y_true, y_pred)"
      ],
      "metadata": {
        "colab": {
          "base_uri": "https://localhost:8080/"
        },
        "id": "fdenMcs1npHy",
        "outputId": "24adb3c6-0ac3-4269-97f6-9a42584573b2"
      },
      "execution_count": 39,
      "outputs": [
        {
          "output_type": "execute_result",
          "data": {
            "text/plain": [
              "0.7582801303266378"
            ]
          },
          "metadata": {},
          "execution_count": 39
        }
      ]
    }
  ]
}